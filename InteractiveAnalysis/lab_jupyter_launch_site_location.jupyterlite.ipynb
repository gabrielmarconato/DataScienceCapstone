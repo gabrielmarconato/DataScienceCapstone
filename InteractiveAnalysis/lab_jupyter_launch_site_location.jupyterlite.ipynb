{
  "metadata": {
    "kernelspec": {
      "name": "python",
      "display_name": "Python (Pyodide)",
      "language": "python"
    },
    "language_info": {
      "codemirror_mode": {
        "name": "python",
        "version": 3
      },
      "file_extension": ".py",
      "mimetype": "text/x-python",
      "name": "python",
      "nbconvert_exporter": "python",
      "pygments_lexer": "ipython3",
      "version": "3.8"
    }
  },
  "nbformat_minor": 4,
  "nbformat": 4,
  "cells": [
    {
      "cell_type": "markdown",
      "source": "<p style=\"text-align:center\">\n    <a href=\"https://skills.network/?utm_medium=Exinfluencer&utm_source=Exinfluencer&utm_content=000026UJ&utm_term=10006555&utm_id=NA-SkillsNetwork-Channel-SkillsNetworkCoursesIBMDS0321ENSkillsNetwork26802033-2022-01-01\" target=\"_blank\">\n    <img src=\"https://cf-courses-data.s3.us.cloud-object-storage.appdomain.cloud/assets/logos/SN_web_lightmode.png\" width=\"200\" alt=\"Skills Network Logo\"  />\n    </a>\n</p>\n",
      "metadata": {}
    },
    {
      "cell_type": "markdown",
      "source": "# **Launch Sites Locations Analysis with Folium**\n",
      "metadata": {}
    },
    {
      "cell_type": "markdown",
      "source": "Estimated time needed: **40** minutes\n",
      "metadata": {}
    },
    {
      "cell_type": "markdown",
      "source": "The launch success rate may depend on many factors such as payload mass, orbit type, and so on. It may also depend on the location and proximities of a launch site, i.e., the initial position of rocket trajectories. Finding an optimal location for building a launch site certainly involves many factors and hopefully we could discover some of the factors by analyzing the existing launch site locations.\n",
      "metadata": {}
    },
    {
      "cell_type": "markdown",
      "source": "In the previous exploratory data analysis labs, you have visualized the SpaceX launch dataset using `matplotlib` and `seaborn` and discovered some preliminary correlations between the launch site and success rates. In this lab, you will be performing more interactive visual analytics using `Folium`.\n",
      "metadata": {}
    },
    {
      "cell_type": "markdown",
      "source": "## Objectives\n",
      "metadata": {}
    },
    {
      "cell_type": "markdown",
      "source": "This lab contains the following tasks:\n\n*   **TASK 1:** Mark all launch sites on a map\n*   **TASK 2:** Mark the success/failed launches for each site on the map\n*   **TASK 3:** Calculate the distances between a launch site to its proximities\n\nAfter completed the above tasks, you should be able to find some geographical patterns about launch sites.\n",
      "metadata": {}
    },
    {
      "cell_type": "markdown",
      "source": "Let's first import required Python packages for this lab:\n",
      "metadata": {}
    },
    {
      "cell_type": "code",
      "source": "import piplite\nawait piplite.install(['folium'])\nawait piplite.install(['pandas'])",
      "metadata": {
        "trusted": true
      },
      "outputs": [],
      "execution_count": 1
    },
    {
      "cell_type": "code",
      "source": "import folium\nimport pandas as pd",
      "metadata": {
        "trusted": true
      },
      "outputs": [],
      "execution_count": 2
    },
    {
      "cell_type": "code",
      "source": "# Import folium MarkerCluster plugin\nfrom folium.plugins import MarkerCluster\n# Import folium MousePosition plugin\nfrom folium.plugins import MousePosition\n# Import folium DivIcon plugin\nfrom folium.features import DivIcon",
      "metadata": {
        "trusted": true
      },
      "outputs": [],
      "execution_count": 3
    },
    {
      "cell_type": "markdown",
      "source": "If you need to refresh your memory about folium, you may download and refer to this previous folium lab:\n",
      "metadata": {}
    },
    {
      "cell_type": "markdown",
      "source": "[Generating Maps with Python](https://cf-courses-data.s3.us.cloud-object-storage.appdomain.cloud/IBM-DS0321EN-SkillsNetwork/labs/module\\_3/DV0101EN-3-5-1-Generating-Maps-in-Python-py-v2.0.ipynb)\n",
      "metadata": {}
    },
    {
      "cell_type": "code",
      "source": "## Task 1: Mark all launch sites on a map\n",
      "metadata": {},
      "outputs": [],
      "execution_count": null
    },
    {
      "cell_type": "markdown",
      "source": "First, let's try to add each site's location on a map using site's latitude and longitude coordinates\n",
      "metadata": {}
    },
    {
      "cell_type": "markdown",
      "source": "The following dataset with the name `spacex_launch_geo.csv` is an augmented dataset with latitude and longitude added for each site.\n",
      "metadata": {}
    },
    {
      "cell_type": "code",
      "source": "# Download and read the `spacex_launch_geo.csv`\nfrom js import fetch\nimport io\n\nURL = 'https://cf-courses-data.s3.us.cloud-object-storage.appdomain.cloud/IBM-DS0321EN-SkillsNetwork/datasets/spacex_launch_geo.csv'\nresp = await fetch(URL)\nspacex_csv_file = io.BytesIO((await resp.arrayBuffer()).to_py())\nspacex_df=pd.read_csv(spacex_csv_file)",
      "metadata": {
        "trusted": true
      },
      "outputs": [],
      "execution_count": 4
    },
    {
      "cell_type": "markdown",
      "source": "Now, you can take a look at what are the coordinates for each site.\n",
      "metadata": {}
    },
    {
      "cell_type": "code",
      "source": "# Select relevant sub-columns: `Launch Site`, `Lat(Latitude)`, `Long(Longitude)`, `class`\nspacex_df = spacex_df[['Launch Site', 'Lat', 'Long', 'class']]\nlaunch_sites_df = spacex_df.groupby(['Launch Site'], as_index=False).first()\nlaunch_sites_df = launch_sites_df[['Launch Site', 'Lat', 'Long']]\nlaunch_sites_df",
      "metadata": {
        "trusted": true
      },
      "outputs": [
        {
          "execution_count": 5,
          "output_type": "execute_result",
          "data": {
            "text/plain": "    Launch Site        Lat        Long\n0   CCAFS LC-40  28.562302  -80.577356\n1  CCAFS SLC-40  28.563197  -80.576820\n2    KSC LC-39A  28.573255  -80.646895\n3   VAFB SLC-4E  34.632834 -120.610745",
            "text/html": "<div>\n<style scoped>\n    .dataframe tbody tr th:only-of-type {\n        vertical-align: middle;\n    }\n\n    .dataframe tbody tr th {\n        vertical-align: top;\n    }\n\n    .dataframe thead th {\n        text-align: right;\n    }\n</style>\n<table border=\"1\" class=\"dataframe\">\n  <thead>\n    <tr style=\"text-align: right;\">\n      <th></th>\n      <th>Launch Site</th>\n      <th>Lat</th>\n      <th>Long</th>\n    </tr>\n  </thead>\n  <tbody>\n    <tr>\n      <th>0</th>\n      <td>CCAFS LC-40</td>\n      <td>28.562302</td>\n      <td>-80.577356</td>\n    </tr>\n    <tr>\n      <th>1</th>\n      <td>CCAFS SLC-40</td>\n      <td>28.563197</td>\n      <td>-80.576820</td>\n    </tr>\n    <tr>\n      <th>2</th>\n      <td>KSC LC-39A</td>\n      <td>28.573255</td>\n      <td>-80.646895</td>\n    </tr>\n    <tr>\n      <th>3</th>\n      <td>VAFB SLC-4E</td>\n      <td>34.632834</td>\n      <td>-120.610745</td>\n    </tr>\n  </tbody>\n</table>\n</div>"
          },
          "metadata": {}
        }
      ],
      "execution_count": 5
    },
    {
      "cell_type": "markdown",
      "source": "Above coordinates are just plain numbers that can not give you any intuitive insights about where are those launch sites. If you are very good at geography, you can interpret those numbers directly in your mind. If not, that's fine too. Let's visualize those locations by pinning them on a map.\n",
      "metadata": {}
    },
    {
      "cell_type": "markdown",
      "source": "We first need to create a folium `Map` object, with an initial center location to be NASA Johnson Space Center at Houston, Texas.\n",
      "metadata": {}
    },
    {
      "cell_type": "code",
      "source": "# Start location is NASA Johnson Space Center\nnasa_coordinate = [29.559684888503615, -95.0830971930759]\nsite_map = folium.Map(location=nasa_coordinate, zoom_start=10)",
      "metadata": {
        "trusted": true
      },
      "outputs": [],
      "execution_count": 6
    },
    {
      "cell_type": "markdown",
      "source": "We could use `folium.Circle` to add a highlighted circle area with a text label on a specific coordinate. For example,\n",
      "metadata": {}
    },
    {
      "cell_type": "code",
      "source": "# Create a blue circle at NASA Johnson Space Center's coordinate with a popup label showing its name\ncircle = folium.Circle(nasa_coordinate, radius=1000, color='#d35400', fill=True).add_child(folium.Popup('NASA Johnson Space Center'))\n# Create a blue circle at NASA Johnson Space Center's coordinate with a icon showing its name\nmarker = folium.map.Marker(\n    nasa_coordinate,\n    # Create an icon as a text label\n    icon=DivIcon(\n        icon_size=(20,20),\n        icon_anchor=(0,0),\n        html='<div style=\"font-size: 12; color:#d35400;\"><b>%s</b></div>' % 'NASA JSC',\n        )\n    )\nsite_map.add_child(circle)\nsite_map.add_child(marker)",
      "metadata": {
        "trusted": true
      },
      "outputs": [
        {
          "execution_count": 7,
          "output_type": "execute_result",
          "data": {
            "text/plain": "<folium.folium.Map at 0x1624f60>",
            "text/html": "<div style=\"width:100%;\"><div style=\"position:relative;width:100%;height:0;padding-bottom:60%;\"><span style=\"color:#565656\">Make this Notebook Trusted to load map: File -> Trust Notebook</span><iframe srcdoc=\"&lt;!DOCTYPE html&gt;\n&lt;html&gt;\n&lt;head&gt;\n    \n    &lt;meta http-equiv=&quot;content-type&quot; content=&quot;text/html; charset=UTF-8&quot; /&gt;\n    \n        &lt;script&gt;\n            L_NO_TOUCH = false;\n            L_DISABLE_3D = false;\n        &lt;/script&gt;\n    \n    &lt;style&gt;html, body {width: 100%;height: 100%;margin: 0;padding: 0;}&lt;/style&gt;\n    &lt;style&gt;#map {position:absolute;top:0;bottom:0;right:0;left:0;}&lt;/style&gt;\n    &lt;script src=&quot;https://cdn.jsdelivr.net/npm/leaflet@1.9.3/dist/leaflet.js&quot;&gt;&lt;/script&gt;\n    &lt;script src=&quot;https://code.jquery.com/jquery-3.7.1.min.js&quot;&gt;&lt;/script&gt;\n    &lt;script src=&quot;https://cdn.jsdelivr.net/npm/bootstrap@5.2.2/dist/js/bootstrap.bundle.min.js&quot;&gt;&lt;/script&gt;\n    &lt;script src=&quot;https://cdnjs.cloudflare.com/ajax/libs/Leaflet.awesome-markers/2.0.2/leaflet.awesome-markers.js&quot;&gt;&lt;/script&gt;\n    &lt;link rel=&quot;stylesheet&quot; href=&quot;https://cdn.jsdelivr.net/npm/leaflet@1.9.3/dist/leaflet.css&quot;/&gt;\n    &lt;link rel=&quot;stylesheet&quot; href=&quot;https://cdn.jsdelivr.net/npm/bootstrap@5.2.2/dist/css/bootstrap.min.css&quot;/&gt;\n    &lt;link rel=&quot;stylesheet&quot; href=&quot;https://netdna.bootstrapcdn.com/bootstrap/3.0.0/css/bootstrap.min.css&quot;/&gt;\n    &lt;link rel=&quot;stylesheet&quot; href=&quot;https://cdn.jsdelivr.net/npm/@fortawesome/fontawesome-free@6.2.0/css/all.min.css&quot;/&gt;\n    &lt;link rel=&quot;stylesheet&quot; href=&quot;https://cdnjs.cloudflare.com/ajax/libs/Leaflet.awesome-markers/2.0.2/leaflet.awesome-markers.css&quot;/&gt;\n    &lt;link rel=&quot;stylesheet&quot; href=&quot;https://cdn.jsdelivr.net/gh/python-visualization/folium/folium/templates/leaflet.awesome.rotate.min.css&quot;/&gt;\n    \n            &lt;meta name=&quot;viewport&quot; content=&quot;width=device-width,\n                initial-scale=1.0, maximum-scale=1.0, user-scalable=no&quot; /&gt;\n            &lt;style&gt;\n                #map_510e7c9c3db783beb4846291825a6ed0 {\n                    position: relative;\n                    width: 100.0%;\n                    height: 100.0%;\n                    left: 0.0%;\n                    top: 0.0%;\n                }\n                .leaflet-container { font-size: 1rem; }\n            &lt;/style&gt;\n        \n&lt;/head&gt;\n&lt;body&gt;\n    \n    \n            &lt;div class=&quot;folium-map&quot; id=&quot;map_510e7c9c3db783beb4846291825a6ed0&quot; &gt;&lt;/div&gt;\n        \n&lt;/body&gt;\n&lt;script&gt;\n    \n    \n            var map_510e7c9c3db783beb4846291825a6ed0 = L.map(\n                &quot;map_510e7c9c3db783beb4846291825a6ed0&quot;,\n                {\n                    center: [29.559684888503615, -95.0830971930759],\n                    crs: L.CRS.EPSG3857,\n                    zoom: 10,\n                    zoomControl: true,\n                    preferCanvas: false,\n                }\n            );\n\n            \n\n        \n    \n            var tile_layer_eb2f483a2d1f6b63123e030683ce18c1 = L.tileLayer(\n                &quot;https://tile.openstreetmap.org/{z}/{x}/{y}.png&quot;,\n                {&quot;attribution&quot;: &quot;\\u0026copy; \\u003ca href=\\&quot;https://www.openstreetmap.org/copyright\\&quot;\\u003eOpenStreetMap\\u003c/a\\u003e contributors&quot;, &quot;detectRetina&quot;: false, &quot;maxNativeZoom&quot;: 19, &quot;maxZoom&quot;: 19, &quot;minZoom&quot;: 0, &quot;noWrap&quot;: false, &quot;opacity&quot;: 1, &quot;subdomains&quot;: &quot;abc&quot;, &quot;tms&quot;: false}\n            );\n        \n    \n            tile_layer_eb2f483a2d1f6b63123e030683ce18c1.addTo(map_510e7c9c3db783beb4846291825a6ed0);\n        \n    \n            var circle_e3367f00679d837d6c0197237ceff75b = L.circle(\n                [29.559684888503615, -95.0830971930759],\n                {&quot;bubblingMouseEvents&quot;: true, &quot;color&quot;: &quot;#d35400&quot;, &quot;dashArray&quot;: null, &quot;dashOffset&quot;: null, &quot;fill&quot;: true, &quot;fillColor&quot;: &quot;#d35400&quot;, &quot;fillOpacity&quot;: 0.2, &quot;fillRule&quot;: &quot;evenodd&quot;, &quot;lineCap&quot;: &quot;round&quot;, &quot;lineJoin&quot;: &quot;round&quot;, &quot;opacity&quot;: 1.0, &quot;radius&quot;: 1000, &quot;stroke&quot;: true, &quot;weight&quot;: 3}\n            ).addTo(map_510e7c9c3db783beb4846291825a6ed0);\n        \n    \n        var popup_6ebc783293f71c7d185a749478a217cb = L.popup({&quot;maxWidth&quot;: &quot;100%&quot;});\n\n        \n            \n                var html_d392bb09063c9ab02168016b59cec59f = $(`&lt;div id=&quot;html_d392bb09063c9ab02168016b59cec59f&quot; style=&quot;width: 100.0%; height: 100.0%;&quot;&gt;NASA Johnson Space Center&lt;/div&gt;`)[0];\n                popup_6ebc783293f71c7d185a749478a217cb.setContent(html_d392bb09063c9ab02168016b59cec59f);\n            \n        \n\n        circle_e3367f00679d837d6c0197237ceff75b.bindPopup(popup_6ebc783293f71c7d185a749478a217cb)\n        ;\n\n        \n    \n    \n            var marker_fbecb7152fc65f551cd25b7ff291de07 = L.marker(\n                [29.559684888503615, -95.0830971930759],\n                {}\n            ).addTo(map_510e7c9c3db783beb4846291825a6ed0);\n        \n    \n            var div_icon_83e1a796d2d0cbada476a0e45d38ed65 = L.divIcon({&quot;className&quot;: &quot;empty&quot;, &quot;html&quot;: &quot;\\u003cdiv style=\\&quot;font-size: 12; color:#d35400;\\&quot;\\u003e\\u003cb\\u003eNASA JSC\\u003c/b\\u003e\\u003c/div\\u003e&quot;, &quot;iconAnchor&quot;: [0, 0], &quot;iconSize&quot;: [20, 20]});\n            marker_fbecb7152fc65f551cd25b7ff291de07.setIcon(div_icon_83e1a796d2d0cbada476a0e45d38ed65);\n        \n&lt;/script&gt;\n&lt;/html&gt;\" style=\"position:absolute;width:100%;height:100%;left:0;top:0;border:none !important;\" allowfullscreen webkitallowfullscreen mozallowfullscreen></iframe></div></div>"
          },
          "metadata": {}
        }
      ],
      "execution_count": 7
    },
    {
      "cell_type": "markdown",
      "source": "and you should find a small yellow circle near the city of Houston and you can zoom-in to see a larger circle.\n",
      "metadata": {}
    },
    {
      "cell_type": "markdown",
      "source": "Now, let's add a circle for each launch site in data frame `launch_sites`\n",
      "metadata": {}
    },
    {
      "cell_type": "markdown",
      "source": "*TODO:*  Create and add `folium.Circle` and `folium.Marker` for each launch site on the site map\n",
      "metadata": {}
    },
    {
      "cell_type": "markdown",
      "source": "An example of folium.Circle:\n",
      "metadata": {}
    },
    {
      "cell_type": "markdown",
      "source": "`folium.Circle(coordinate, radius=1000, color='#000000', fill=True).add_child(folium.Popup(...))`\n",
      "metadata": {}
    },
    {
      "cell_type": "markdown",
      "source": "An example of folium.Marker:\n",
      "metadata": {}
    },
    {
      "cell_type": "markdown",
      "source": "`folium.map.Marker(coordinate, icon=DivIcon(icon_size=(20,20),icon_anchor=(0,0), html='<div style=\"font-size: 12; color:#d35400;\"><b>%s</b></div>' % 'label', ))`\n",
      "metadata": {}
    },
    {
      "cell_type": "code",
      "source": "# Initial the map\nsite_map = folium.Map(location=nasa_coordinate, zoom_start=5)\nincidents = folium.map.FeatureGroup()\n\nlabels = list(launch_sites_df['Launch Site'])\n# For each launch site, add a Circle object based on its coordinate (Lat, Long) values. In addition, add Launch site name as a popup label\nfor lat, lng,label in zip(launch_sites_df.Lat, launch_sites_df.Long, labels):\n    incidents.add_child(\n        folium.features.CircleMarker(\n            [lat, lng],\n            radius=3, # define how big you want the circle markers to be\n            color='red',\n            fill=True,\n            fill_color='red',\n            fill_opacity=0.8,\n            popup=label\n        )\n    )\n\nsite_map.add_child(incidents)",
      "metadata": {
        "trusted": true
      },
      "outputs": [
        {
          "execution_count": 16,
          "output_type": "execute_result",
          "data": {
            "text/plain": "<folium.folium.Map at 0x5ae7018>",
            "text/html": "<div style=\"width:100%;\"><div style=\"position:relative;width:100%;height:0;padding-bottom:60%;\"><span style=\"color:#565656\">Make this Notebook Trusted to load map: File -> Trust Notebook</span><iframe srcdoc=\"&lt;!DOCTYPE html&gt;\n&lt;html&gt;\n&lt;head&gt;\n    \n    &lt;meta http-equiv=&quot;content-type&quot; content=&quot;text/html; charset=UTF-8&quot; /&gt;\n    \n        &lt;script&gt;\n            L_NO_TOUCH = false;\n            L_DISABLE_3D = false;\n        &lt;/script&gt;\n    \n    &lt;style&gt;html, body {width: 100%;height: 100%;margin: 0;padding: 0;}&lt;/style&gt;\n    &lt;style&gt;#map {position:absolute;top:0;bottom:0;right:0;left:0;}&lt;/style&gt;\n    &lt;script src=&quot;https://cdn.jsdelivr.net/npm/leaflet@1.9.3/dist/leaflet.js&quot;&gt;&lt;/script&gt;\n    &lt;script src=&quot;https://code.jquery.com/jquery-3.7.1.min.js&quot;&gt;&lt;/script&gt;\n    &lt;script src=&quot;https://cdn.jsdelivr.net/npm/bootstrap@5.2.2/dist/js/bootstrap.bundle.min.js&quot;&gt;&lt;/script&gt;\n    &lt;script src=&quot;https://cdnjs.cloudflare.com/ajax/libs/Leaflet.awesome-markers/2.0.2/leaflet.awesome-markers.js&quot;&gt;&lt;/script&gt;\n    &lt;link rel=&quot;stylesheet&quot; href=&quot;https://cdn.jsdelivr.net/npm/leaflet@1.9.3/dist/leaflet.css&quot;/&gt;\n    &lt;link rel=&quot;stylesheet&quot; href=&quot;https://cdn.jsdelivr.net/npm/bootstrap@5.2.2/dist/css/bootstrap.min.css&quot;/&gt;\n    &lt;link rel=&quot;stylesheet&quot; href=&quot;https://netdna.bootstrapcdn.com/bootstrap/3.0.0/css/bootstrap.min.css&quot;/&gt;\n    &lt;link rel=&quot;stylesheet&quot; href=&quot;https://cdn.jsdelivr.net/npm/@fortawesome/fontawesome-free@6.2.0/css/all.min.css&quot;/&gt;\n    &lt;link rel=&quot;stylesheet&quot; href=&quot;https://cdnjs.cloudflare.com/ajax/libs/Leaflet.awesome-markers/2.0.2/leaflet.awesome-markers.css&quot;/&gt;\n    &lt;link rel=&quot;stylesheet&quot; href=&quot;https://cdn.jsdelivr.net/gh/python-visualization/folium/folium/templates/leaflet.awesome.rotate.min.css&quot;/&gt;\n    \n            &lt;meta name=&quot;viewport&quot; content=&quot;width=device-width,\n                initial-scale=1.0, maximum-scale=1.0, user-scalable=no&quot; /&gt;\n            &lt;style&gt;\n                #map_d37110a990dcdcc633fce9300c35aa0f {\n                    position: relative;\n                    width: 100.0%;\n                    height: 100.0%;\n                    left: 0.0%;\n                    top: 0.0%;\n                }\n                .leaflet-container { font-size: 1rem; }\n            &lt;/style&gt;\n        \n&lt;/head&gt;\n&lt;body&gt;\n    \n    \n            &lt;div class=&quot;folium-map&quot; id=&quot;map_d37110a990dcdcc633fce9300c35aa0f&quot; &gt;&lt;/div&gt;\n        \n&lt;/body&gt;\n&lt;script&gt;\n    \n    \n            var map_d37110a990dcdcc633fce9300c35aa0f = L.map(\n                &quot;map_d37110a990dcdcc633fce9300c35aa0f&quot;,\n                {\n                    center: [29.559684888503615, -95.0830971930759],\n                    crs: L.CRS.EPSG3857,\n                    zoom: 5,\n                    zoomControl: true,\n                    preferCanvas: false,\n                }\n            );\n\n            \n\n        \n    \n            var tile_layer_962d236166f26ab1a13757d694f21ff9 = L.tileLayer(\n                &quot;https://tile.openstreetmap.org/{z}/{x}/{y}.png&quot;,\n                {&quot;attribution&quot;: &quot;\\u0026copy; \\u003ca href=\\&quot;https://www.openstreetmap.org/copyright\\&quot;\\u003eOpenStreetMap\\u003c/a\\u003e contributors&quot;, &quot;detectRetina&quot;: false, &quot;maxNativeZoom&quot;: 19, &quot;maxZoom&quot;: 19, &quot;minZoom&quot;: 0, &quot;noWrap&quot;: false, &quot;opacity&quot;: 1, &quot;subdomains&quot;: &quot;abc&quot;, &quot;tms&quot;: false}\n            );\n        \n    \n            tile_layer_962d236166f26ab1a13757d694f21ff9.addTo(map_d37110a990dcdcc633fce9300c35aa0f);\n        \n    \n            var feature_group_a1c0e3a8af2ba8533fd9a0d2bf6e8bad = L.featureGroup(\n                {}\n            );\n        \n    \n            var circle_marker_f68ac90a373ad5cbcdebdd39438bdd94 = L.circleMarker(\n                [28.56230197, -80.57735648],\n                {&quot;bubblingMouseEvents&quot;: true, &quot;color&quot;: &quot;red&quot;, &quot;dashArray&quot;: null, &quot;dashOffset&quot;: null, &quot;fill&quot;: true, &quot;fillColor&quot;: &quot;red&quot;, &quot;fillOpacity&quot;: 0.8, &quot;fillRule&quot;: &quot;evenodd&quot;, &quot;lineCap&quot;: &quot;round&quot;, &quot;lineJoin&quot;: &quot;round&quot;, &quot;opacity&quot;: 1.0, &quot;radius&quot;: 3, &quot;stroke&quot;: true, &quot;weight&quot;: 3}\n            ).addTo(feature_group_a1c0e3a8af2ba8533fd9a0d2bf6e8bad);\n        \n    \n        var popup_cd9b3cafc4b884f45e8da9254fe247a2 = L.popup({&quot;maxWidth&quot;: &quot;100%&quot;});\n\n        \n            \n                var html_271b0e83eb7e607e9817f535605e92f5 = $(`&lt;div id=&quot;html_271b0e83eb7e607e9817f535605e92f5&quot; style=&quot;width: 100.0%; height: 100.0%;&quot;&gt;CCAFS LC-40&lt;/div&gt;`)[0];\n                popup_cd9b3cafc4b884f45e8da9254fe247a2.setContent(html_271b0e83eb7e607e9817f535605e92f5);\n            \n        \n\n        circle_marker_f68ac90a373ad5cbcdebdd39438bdd94.bindPopup(popup_cd9b3cafc4b884f45e8da9254fe247a2)\n        ;\n\n        \n    \n    \n            var circle_marker_ab57820d5f0922b104f0ffb6bf66ebec = L.circleMarker(\n                [28.56319718, -80.57682003],\n                {&quot;bubblingMouseEvents&quot;: true, &quot;color&quot;: &quot;red&quot;, &quot;dashArray&quot;: null, &quot;dashOffset&quot;: null, &quot;fill&quot;: true, &quot;fillColor&quot;: &quot;red&quot;, &quot;fillOpacity&quot;: 0.8, &quot;fillRule&quot;: &quot;evenodd&quot;, &quot;lineCap&quot;: &quot;round&quot;, &quot;lineJoin&quot;: &quot;round&quot;, &quot;opacity&quot;: 1.0, &quot;radius&quot;: 3, &quot;stroke&quot;: true, &quot;weight&quot;: 3}\n            ).addTo(feature_group_a1c0e3a8af2ba8533fd9a0d2bf6e8bad);\n        \n    \n        var popup_bfb323e8cbf854a4bb8a48604815fb45 = L.popup({&quot;maxWidth&quot;: &quot;100%&quot;});\n\n        \n            \n                var html_6b98f0ae5cc3fcd2cf27982c2e2b225e = $(`&lt;div id=&quot;html_6b98f0ae5cc3fcd2cf27982c2e2b225e&quot; style=&quot;width: 100.0%; height: 100.0%;&quot;&gt;CCAFS SLC-40&lt;/div&gt;`)[0];\n                popup_bfb323e8cbf854a4bb8a48604815fb45.setContent(html_6b98f0ae5cc3fcd2cf27982c2e2b225e);\n            \n        \n\n        circle_marker_ab57820d5f0922b104f0ffb6bf66ebec.bindPopup(popup_bfb323e8cbf854a4bb8a48604815fb45)\n        ;\n\n        \n    \n    \n            var circle_marker_10f0722b6cd6877bada53880af16a3b1 = L.circleMarker(\n                [28.57325457, -80.64689529],\n                {&quot;bubblingMouseEvents&quot;: true, &quot;color&quot;: &quot;red&quot;, &quot;dashArray&quot;: null, &quot;dashOffset&quot;: null, &quot;fill&quot;: true, &quot;fillColor&quot;: &quot;red&quot;, &quot;fillOpacity&quot;: 0.8, &quot;fillRule&quot;: &quot;evenodd&quot;, &quot;lineCap&quot;: &quot;round&quot;, &quot;lineJoin&quot;: &quot;round&quot;, &quot;opacity&quot;: 1.0, &quot;radius&quot;: 3, &quot;stroke&quot;: true, &quot;weight&quot;: 3}\n            ).addTo(feature_group_a1c0e3a8af2ba8533fd9a0d2bf6e8bad);\n        \n    \n        var popup_13fdc542d1f1da26f9895d20cce77006 = L.popup({&quot;maxWidth&quot;: &quot;100%&quot;});\n\n        \n            \n                var html_65598adedc0f7f2675a1c947968654f1 = $(`&lt;div id=&quot;html_65598adedc0f7f2675a1c947968654f1&quot; style=&quot;width: 100.0%; height: 100.0%;&quot;&gt;KSC LC-39A&lt;/div&gt;`)[0];\n                popup_13fdc542d1f1da26f9895d20cce77006.setContent(html_65598adedc0f7f2675a1c947968654f1);\n            \n        \n\n        circle_marker_10f0722b6cd6877bada53880af16a3b1.bindPopup(popup_13fdc542d1f1da26f9895d20cce77006)\n        ;\n\n        \n    \n    \n            var circle_marker_8a83ab9bd0caf09ae927f0eb9e30999f = L.circleMarker(\n                [34.63283416, -120.6107455],\n                {&quot;bubblingMouseEvents&quot;: true, &quot;color&quot;: &quot;red&quot;, &quot;dashArray&quot;: null, &quot;dashOffset&quot;: null, &quot;fill&quot;: true, &quot;fillColor&quot;: &quot;red&quot;, &quot;fillOpacity&quot;: 0.8, &quot;fillRule&quot;: &quot;evenodd&quot;, &quot;lineCap&quot;: &quot;round&quot;, &quot;lineJoin&quot;: &quot;round&quot;, &quot;opacity&quot;: 1.0, &quot;radius&quot;: 3, &quot;stroke&quot;: true, &quot;weight&quot;: 3}\n            ).addTo(feature_group_a1c0e3a8af2ba8533fd9a0d2bf6e8bad);\n        \n    \n        var popup_9671e9e1c55fd10e01d0bab0c24e6d04 = L.popup({&quot;maxWidth&quot;: &quot;100%&quot;});\n\n        \n            \n                var html_a888766219452b2d7a0059242f4447cf = $(`&lt;div id=&quot;html_a888766219452b2d7a0059242f4447cf&quot; style=&quot;width: 100.0%; height: 100.0%;&quot;&gt;VAFB SLC-4E&lt;/div&gt;`)[0];\n                popup_9671e9e1c55fd10e01d0bab0c24e6d04.setContent(html_a888766219452b2d7a0059242f4447cf);\n            \n        \n\n        circle_marker_8a83ab9bd0caf09ae927f0eb9e30999f.bindPopup(popup_9671e9e1c55fd10e01d0bab0c24e6d04)\n        ;\n\n        \n    \n    \n            feature_group_a1c0e3a8af2ba8533fd9a0d2bf6e8bad.addTo(map_d37110a990dcdcc633fce9300c35aa0f);\n        \n&lt;/script&gt;\n&lt;/html&gt;\" style=\"position:absolute;width:100%;height:100%;left:0;top:0;border:none !important;\" allowfullscreen webkitallowfullscreen mozallowfullscreen></iframe></div></div>"
          },
          "metadata": {}
        }
      ],
      "execution_count": 16
    },
    {
      "cell_type": "markdown",
      "source": "The generated map with marked launch sites should look similar to the following:\n",
      "metadata": {}
    },
    {
      "cell_type": "markdown",
      "source": "<center>\n    <img src=\"https://cf-courses-data.s3.us.cloud-object-storage.appdomain.cloud/IBM-DS0321EN-SkillsNetwork/labs/module_3/images/launch_site_markers.png\">\n</center>\n",
      "metadata": {}
    },
    {
      "cell_type": "markdown",
      "source": "Now, you can explore the map by zoom-in/out the marked areas\n, and try to answer the following questions:\n\n*   Are all launch sites in proximity to the Equator line?\n*   Are all launch sites in very close proximity to the coast?\n\nAlso please try to explain your findings.\n",
      "metadata": {}
    },
    {
      "cell_type": "code",
      "source": "# Task 2: Mark the success/failed launches for each site on the map\n",
      "metadata": {},
      "outputs": [],
      "execution_count": null
    },
    {
      "cell_type": "markdown",
      "source": "Next, let's try to enhance the map by adding the launch outcomes for each site, and see which sites have high success rates.\nRecall that data frame spacex_df has detailed launch records, and the `class` column indicates if this launch was successful or not\n",
      "metadata": {}
    },
    {
      "cell_type": "code",
      "source": "spacex_df.tail(10)",
      "metadata": {
        "trusted": true
      },
      "outputs": [
        {
          "execution_count": 17,
          "output_type": "execute_result",
          "data": {
            "text/plain": "     Launch Site        Lat       Long  class\n46    KSC LC-39A  28.573255 -80.646895      1\n47    KSC LC-39A  28.573255 -80.646895      1\n48    KSC LC-39A  28.573255 -80.646895      1\n49  CCAFS SLC-40  28.563197 -80.576820      1\n50  CCAFS SLC-40  28.563197 -80.576820      1\n51  CCAFS SLC-40  28.563197 -80.576820      0\n52  CCAFS SLC-40  28.563197 -80.576820      0\n53  CCAFS SLC-40  28.563197 -80.576820      0\n54  CCAFS SLC-40  28.563197 -80.576820      1\n55  CCAFS SLC-40  28.563197 -80.576820      0",
            "text/html": "<div>\n<style scoped>\n    .dataframe tbody tr th:only-of-type {\n        vertical-align: middle;\n    }\n\n    .dataframe tbody tr th {\n        vertical-align: top;\n    }\n\n    .dataframe thead th {\n        text-align: right;\n    }\n</style>\n<table border=\"1\" class=\"dataframe\">\n  <thead>\n    <tr style=\"text-align: right;\">\n      <th></th>\n      <th>Launch Site</th>\n      <th>Lat</th>\n      <th>Long</th>\n      <th>class</th>\n    </tr>\n  </thead>\n  <tbody>\n    <tr>\n      <th>46</th>\n      <td>KSC LC-39A</td>\n      <td>28.573255</td>\n      <td>-80.646895</td>\n      <td>1</td>\n    </tr>\n    <tr>\n      <th>47</th>\n      <td>KSC LC-39A</td>\n      <td>28.573255</td>\n      <td>-80.646895</td>\n      <td>1</td>\n    </tr>\n    <tr>\n      <th>48</th>\n      <td>KSC LC-39A</td>\n      <td>28.573255</td>\n      <td>-80.646895</td>\n      <td>1</td>\n    </tr>\n    <tr>\n      <th>49</th>\n      <td>CCAFS SLC-40</td>\n      <td>28.563197</td>\n      <td>-80.576820</td>\n      <td>1</td>\n    </tr>\n    <tr>\n      <th>50</th>\n      <td>CCAFS SLC-40</td>\n      <td>28.563197</td>\n      <td>-80.576820</td>\n      <td>1</td>\n    </tr>\n    <tr>\n      <th>51</th>\n      <td>CCAFS SLC-40</td>\n      <td>28.563197</td>\n      <td>-80.576820</td>\n      <td>0</td>\n    </tr>\n    <tr>\n      <th>52</th>\n      <td>CCAFS SLC-40</td>\n      <td>28.563197</td>\n      <td>-80.576820</td>\n      <td>0</td>\n    </tr>\n    <tr>\n      <th>53</th>\n      <td>CCAFS SLC-40</td>\n      <td>28.563197</td>\n      <td>-80.576820</td>\n      <td>0</td>\n    </tr>\n    <tr>\n      <th>54</th>\n      <td>CCAFS SLC-40</td>\n      <td>28.563197</td>\n      <td>-80.576820</td>\n      <td>1</td>\n    </tr>\n    <tr>\n      <th>55</th>\n      <td>CCAFS SLC-40</td>\n      <td>28.563197</td>\n      <td>-80.576820</td>\n      <td>0</td>\n    </tr>\n  </tbody>\n</table>\n</div>"
          },
          "metadata": {}
        }
      ],
      "execution_count": 17
    },
    {
      "cell_type": "markdown",
      "source": "Next, let's create markers for all launch records.\nIf a launch was successful `(class=1)`, then we use a green marker and if a launch was failed, we use a red marker `(class=0)`\n",
      "metadata": {}
    },
    {
      "cell_type": "markdown",
      "source": "Note that a launch only happens in one of the four launch sites, which means many launch records will have the exact same coordinate. Marker clusters can be a good way to simplify a map containing many markers having the same coordinate.\n",
      "metadata": {}
    },
    {
      "cell_type": "markdown",
      "source": "Let's first create a `MarkerCluster` object\n",
      "metadata": {}
    },
    {
      "cell_type": "code",
      "source": "marker_cluster = MarkerCluster()\n",
      "metadata": {
        "trusted": true
      },
      "outputs": [],
      "execution_count": 18
    },
    {
      "cell_type": "markdown",
      "source": "*TODO:* Create a new column in `launch_sites` dataframe called `marker_color` to store the marker colors based on the `class` value\n",
      "metadata": {}
    },
    {
      "cell_type": "code",
      "source": "spacex_df['marker_color'] = ['green' if x == 1  else 'red' for x in spacex_df['class']]\nspacex_df.tail(12)\n# Apply a function to check the value of `class` column\n# If class=1, marker_color value will be green\n# If class=0, marker_color value will be red",
      "metadata": {
        "trusted": true
      },
      "outputs": [
        {
          "execution_count": 27,
          "output_type": "execute_result",
          "data": {
            "text/plain": "     Launch Site        Lat       Long  class marker_color\n44    KSC LC-39A  28.573255 -80.646895      1        green\n45    KSC LC-39A  28.573255 -80.646895      1        green\n46    KSC LC-39A  28.573255 -80.646895      1        green\n47    KSC LC-39A  28.573255 -80.646895      1        green\n48    KSC LC-39A  28.573255 -80.646895      1        green\n49  CCAFS SLC-40  28.563197 -80.576820      1        green\n50  CCAFS SLC-40  28.563197 -80.576820      1        green\n51  CCAFS SLC-40  28.563197 -80.576820      0          red\n52  CCAFS SLC-40  28.563197 -80.576820      0          red\n53  CCAFS SLC-40  28.563197 -80.576820      0          red\n54  CCAFS SLC-40  28.563197 -80.576820      1        green\n55  CCAFS SLC-40  28.563197 -80.576820      0          red",
            "text/html": "<div>\n<style scoped>\n    .dataframe tbody tr th:only-of-type {\n        vertical-align: middle;\n    }\n\n    .dataframe tbody tr th {\n        vertical-align: top;\n    }\n\n    .dataframe thead th {\n        text-align: right;\n    }\n</style>\n<table border=\"1\" class=\"dataframe\">\n  <thead>\n    <tr style=\"text-align: right;\">\n      <th></th>\n      <th>Launch Site</th>\n      <th>Lat</th>\n      <th>Long</th>\n      <th>class</th>\n      <th>marker_color</th>\n    </tr>\n  </thead>\n  <tbody>\n    <tr>\n      <th>44</th>\n      <td>KSC LC-39A</td>\n      <td>28.573255</td>\n      <td>-80.646895</td>\n      <td>1</td>\n      <td>green</td>\n    </tr>\n    <tr>\n      <th>45</th>\n      <td>KSC LC-39A</td>\n      <td>28.573255</td>\n      <td>-80.646895</td>\n      <td>1</td>\n      <td>green</td>\n    </tr>\n    <tr>\n      <th>46</th>\n      <td>KSC LC-39A</td>\n      <td>28.573255</td>\n      <td>-80.646895</td>\n      <td>1</td>\n      <td>green</td>\n    </tr>\n    <tr>\n      <th>47</th>\n      <td>KSC LC-39A</td>\n      <td>28.573255</td>\n      <td>-80.646895</td>\n      <td>1</td>\n      <td>green</td>\n    </tr>\n    <tr>\n      <th>48</th>\n      <td>KSC LC-39A</td>\n      <td>28.573255</td>\n      <td>-80.646895</td>\n      <td>1</td>\n      <td>green</td>\n    </tr>\n    <tr>\n      <th>49</th>\n      <td>CCAFS SLC-40</td>\n      <td>28.563197</td>\n      <td>-80.576820</td>\n      <td>1</td>\n      <td>green</td>\n    </tr>\n    <tr>\n      <th>50</th>\n      <td>CCAFS SLC-40</td>\n      <td>28.563197</td>\n      <td>-80.576820</td>\n      <td>1</td>\n      <td>green</td>\n    </tr>\n    <tr>\n      <th>51</th>\n      <td>CCAFS SLC-40</td>\n      <td>28.563197</td>\n      <td>-80.576820</td>\n      <td>0</td>\n      <td>red</td>\n    </tr>\n    <tr>\n      <th>52</th>\n      <td>CCAFS SLC-40</td>\n      <td>28.563197</td>\n      <td>-80.576820</td>\n      <td>0</td>\n      <td>red</td>\n    </tr>\n    <tr>\n      <th>53</th>\n      <td>CCAFS SLC-40</td>\n      <td>28.563197</td>\n      <td>-80.576820</td>\n      <td>0</td>\n      <td>red</td>\n    </tr>\n    <tr>\n      <th>54</th>\n      <td>CCAFS SLC-40</td>\n      <td>28.563197</td>\n      <td>-80.576820</td>\n      <td>1</td>\n      <td>green</td>\n    </tr>\n    <tr>\n      <th>55</th>\n      <td>CCAFS SLC-40</td>\n      <td>28.563197</td>\n      <td>-80.576820</td>\n      <td>0</td>\n      <td>red</td>\n    </tr>\n  </tbody>\n</table>\n</div>"
          },
          "metadata": {}
        }
      ],
      "execution_count": 27
    },
    {
      "cell_type": "markdown",
      "source": "*TODO:* For each launch result in `spacex_df` data frame, add a `folium.Marker` to `marker_cluster`\n",
      "metadata": {}
    },
    {
      "cell_type": "code",
      "source": "# Add marker_cluster to current site_map\nsite_map.add_child(marker_cluster)\n\n# for each row in spacex_df data frame\n# create a Marker object with its coordinate\n# and customize the Marker's icon property to indicate if this launch was successed or failed, \n# e.g., icon=folium.Icon(color='white', icon_color=row['marker_color']\nfor index, record in spacex_df.iterrows():\n    # TODO: Create and add a Marker cluster to the site map\n    lat = record['Lat']\n    lng = record['Long']\n    marker = folium.Marker([lat, lng], color=record.marker_color)\n    marker_cluster.add_child(marker)\n\nsite_map",
      "metadata": {
        "trusted": true
      },
      "outputs": [
        {
          "execution_count": 28,
          "output_type": "execute_result",
          "data": {
            "text/plain": "<folium.folium.Map at 0x5ae7018>",
            "text/html": "<div style=\"width:100%;\"><div style=\"position:relative;width:100%;height:0;padding-bottom:60%;\"><span style=\"color:#565656\">Make this Notebook Trusted to load map: File -> Trust Notebook</span><iframe srcdoc=\"&lt;!DOCTYPE html&gt;\n&lt;html&gt;\n&lt;head&gt;\n    \n    &lt;meta http-equiv=&quot;content-type&quot; content=&quot;text/html; charset=UTF-8&quot; /&gt;\n    \n        &lt;script&gt;\n            L_NO_TOUCH = false;\n            L_DISABLE_3D = false;\n        &lt;/script&gt;\n    \n    &lt;style&gt;html, body {width: 100%;height: 100%;margin: 0;padding: 0;}&lt;/style&gt;\n    &lt;style&gt;#map {position:absolute;top:0;bottom:0;right:0;left:0;}&lt;/style&gt;\n    &lt;script src=&quot;https://cdn.jsdelivr.net/npm/leaflet@1.9.3/dist/leaflet.js&quot;&gt;&lt;/script&gt;\n    &lt;script src=&quot;https://code.jquery.com/jquery-3.7.1.min.js&quot;&gt;&lt;/script&gt;\n    &lt;script src=&quot;https://cdn.jsdelivr.net/npm/bootstrap@5.2.2/dist/js/bootstrap.bundle.min.js&quot;&gt;&lt;/script&gt;\n    &lt;script src=&quot;https://cdnjs.cloudflare.com/ajax/libs/Leaflet.awesome-markers/2.0.2/leaflet.awesome-markers.js&quot;&gt;&lt;/script&gt;\n    &lt;link rel=&quot;stylesheet&quot; href=&quot;https://cdn.jsdelivr.net/npm/leaflet@1.9.3/dist/leaflet.css&quot;/&gt;\n    &lt;link rel=&quot;stylesheet&quot; href=&quot;https://cdn.jsdelivr.net/npm/bootstrap@5.2.2/dist/css/bootstrap.min.css&quot;/&gt;\n    &lt;link rel=&quot;stylesheet&quot; href=&quot;https://netdna.bootstrapcdn.com/bootstrap/3.0.0/css/bootstrap.min.css&quot;/&gt;\n    &lt;link rel=&quot;stylesheet&quot; href=&quot;https://cdn.jsdelivr.net/npm/@fortawesome/fontawesome-free@6.2.0/css/all.min.css&quot;/&gt;\n    &lt;link rel=&quot;stylesheet&quot; href=&quot;https://cdnjs.cloudflare.com/ajax/libs/Leaflet.awesome-markers/2.0.2/leaflet.awesome-markers.css&quot;/&gt;\n    &lt;link rel=&quot;stylesheet&quot; href=&quot;https://cdn.jsdelivr.net/gh/python-visualization/folium/folium/templates/leaflet.awesome.rotate.min.css&quot;/&gt;\n    \n            &lt;meta name=&quot;viewport&quot; content=&quot;width=device-width,\n                initial-scale=1.0, maximum-scale=1.0, user-scalable=no&quot; /&gt;\n            &lt;style&gt;\n                #map_d37110a990dcdcc633fce9300c35aa0f {\n                    position: relative;\n                    width: 100.0%;\n                    height: 100.0%;\n                    left: 0.0%;\n                    top: 0.0%;\n                }\n                .leaflet-container { font-size: 1rem; }\n            &lt;/style&gt;\n        \n    &lt;script src=&quot;https://cdnjs.cloudflare.com/ajax/libs/leaflet.markercluster/1.1.0/leaflet.markercluster.js&quot;&gt;&lt;/script&gt;\n    &lt;link rel=&quot;stylesheet&quot; href=&quot;https://cdnjs.cloudflare.com/ajax/libs/leaflet.markercluster/1.1.0/MarkerCluster.css&quot;/&gt;\n    &lt;link rel=&quot;stylesheet&quot; href=&quot;https://cdnjs.cloudflare.com/ajax/libs/leaflet.markercluster/1.1.0/MarkerCluster.Default.css&quot;/&gt;\n&lt;/head&gt;\n&lt;body&gt;\n    \n    \n            &lt;div class=&quot;folium-map&quot; id=&quot;map_d37110a990dcdcc633fce9300c35aa0f&quot; &gt;&lt;/div&gt;\n        \n&lt;/body&gt;\n&lt;script&gt;\n    \n    \n            var map_d37110a990dcdcc633fce9300c35aa0f = L.map(\n                &quot;map_d37110a990dcdcc633fce9300c35aa0f&quot;,\n                {\n                    center: [29.559684888503615, -95.0830971930759],\n                    crs: L.CRS.EPSG3857,\n                    zoom: 5,\n                    zoomControl: true,\n                    preferCanvas: false,\n                }\n            );\n\n            \n\n        \n    \n            var tile_layer_962d236166f26ab1a13757d694f21ff9 = L.tileLayer(\n                &quot;https://tile.openstreetmap.org/{z}/{x}/{y}.png&quot;,\n                {&quot;attribution&quot;: &quot;\\u0026copy; \\u003ca href=\\&quot;https://www.openstreetmap.org/copyright\\&quot;\\u003eOpenStreetMap\\u003c/a\\u003e contributors&quot;, &quot;detectRetina&quot;: false, &quot;maxNativeZoom&quot;: 19, &quot;maxZoom&quot;: 19, &quot;minZoom&quot;: 0, &quot;noWrap&quot;: false, &quot;opacity&quot;: 1, &quot;subdomains&quot;: &quot;abc&quot;, &quot;tms&quot;: false}\n            );\n        \n    \n            tile_layer_962d236166f26ab1a13757d694f21ff9.addTo(map_d37110a990dcdcc633fce9300c35aa0f);\n        \n    \n            var feature_group_a1c0e3a8af2ba8533fd9a0d2bf6e8bad = L.featureGroup(\n                {}\n            );\n        \n    \n            var circle_marker_f68ac90a373ad5cbcdebdd39438bdd94 = L.circleMarker(\n                [28.56230197, -80.57735648],\n                {&quot;bubblingMouseEvents&quot;: true, &quot;color&quot;: &quot;red&quot;, &quot;dashArray&quot;: null, &quot;dashOffset&quot;: null, &quot;fill&quot;: true, &quot;fillColor&quot;: &quot;red&quot;, &quot;fillOpacity&quot;: 0.8, &quot;fillRule&quot;: &quot;evenodd&quot;, &quot;lineCap&quot;: &quot;round&quot;, &quot;lineJoin&quot;: &quot;round&quot;, &quot;opacity&quot;: 1.0, &quot;radius&quot;: 3, &quot;stroke&quot;: true, &quot;weight&quot;: 3}\n            ).addTo(feature_group_a1c0e3a8af2ba8533fd9a0d2bf6e8bad);\n        \n    \n        var popup_cd9b3cafc4b884f45e8da9254fe247a2 = L.popup({&quot;maxWidth&quot;: &quot;100%&quot;});\n\n        \n            \n                var html_271b0e83eb7e607e9817f535605e92f5 = $(`&lt;div id=&quot;html_271b0e83eb7e607e9817f535605e92f5&quot; style=&quot;width: 100.0%; height: 100.0%;&quot;&gt;CCAFS LC-40&lt;/div&gt;`)[0];\n                popup_cd9b3cafc4b884f45e8da9254fe247a2.setContent(html_271b0e83eb7e607e9817f535605e92f5);\n            \n        \n\n        circle_marker_f68ac90a373ad5cbcdebdd39438bdd94.bindPopup(popup_cd9b3cafc4b884f45e8da9254fe247a2)\n        ;\n\n        \n    \n    \n            var circle_marker_ab57820d5f0922b104f0ffb6bf66ebec = L.circleMarker(\n                [28.56319718, -80.57682003],\n                {&quot;bubblingMouseEvents&quot;: true, &quot;color&quot;: &quot;red&quot;, &quot;dashArray&quot;: null, &quot;dashOffset&quot;: null, &quot;fill&quot;: true, &quot;fillColor&quot;: &quot;red&quot;, &quot;fillOpacity&quot;: 0.8, &quot;fillRule&quot;: &quot;evenodd&quot;, &quot;lineCap&quot;: &quot;round&quot;, &quot;lineJoin&quot;: &quot;round&quot;, &quot;opacity&quot;: 1.0, &quot;radius&quot;: 3, &quot;stroke&quot;: true, &quot;weight&quot;: 3}\n            ).addTo(feature_group_a1c0e3a8af2ba8533fd9a0d2bf6e8bad);\n        \n    \n        var popup_bfb323e8cbf854a4bb8a48604815fb45 = L.popup({&quot;maxWidth&quot;: &quot;100%&quot;});\n\n        \n            \n                var html_6b98f0ae5cc3fcd2cf27982c2e2b225e = $(`&lt;div id=&quot;html_6b98f0ae5cc3fcd2cf27982c2e2b225e&quot; style=&quot;width: 100.0%; height: 100.0%;&quot;&gt;CCAFS SLC-40&lt;/div&gt;`)[0];\n                popup_bfb323e8cbf854a4bb8a48604815fb45.setContent(html_6b98f0ae5cc3fcd2cf27982c2e2b225e);\n            \n        \n\n        circle_marker_ab57820d5f0922b104f0ffb6bf66ebec.bindPopup(popup_bfb323e8cbf854a4bb8a48604815fb45)\n        ;\n\n        \n    \n    \n            var circle_marker_10f0722b6cd6877bada53880af16a3b1 = L.circleMarker(\n                [28.57325457, -80.64689529],\n                {&quot;bubblingMouseEvents&quot;: true, &quot;color&quot;: &quot;red&quot;, &quot;dashArray&quot;: null, &quot;dashOffset&quot;: null, &quot;fill&quot;: true, &quot;fillColor&quot;: &quot;red&quot;, &quot;fillOpacity&quot;: 0.8, &quot;fillRule&quot;: &quot;evenodd&quot;, &quot;lineCap&quot;: &quot;round&quot;, &quot;lineJoin&quot;: &quot;round&quot;, &quot;opacity&quot;: 1.0, &quot;radius&quot;: 3, &quot;stroke&quot;: true, &quot;weight&quot;: 3}\n            ).addTo(feature_group_a1c0e3a8af2ba8533fd9a0d2bf6e8bad);\n        \n    \n        var popup_13fdc542d1f1da26f9895d20cce77006 = L.popup({&quot;maxWidth&quot;: &quot;100%&quot;});\n\n        \n            \n                var html_65598adedc0f7f2675a1c947968654f1 = $(`&lt;div id=&quot;html_65598adedc0f7f2675a1c947968654f1&quot; style=&quot;width: 100.0%; height: 100.0%;&quot;&gt;KSC LC-39A&lt;/div&gt;`)[0];\n                popup_13fdc542d1f1da26f9895d20cce77006.setContent(html_65598adedc0f7f2675a1c947968654f1);\n            \n        \n\n        circle_marker_10f0722b6cd6877bada53880af16a3b1.bindPopup(popup_13fdc542d1f1da26f9895d20cce77006)\n        ;\n\n        \n    \n    \n            var circle_marker_8a83ab9bd0caf09ae927f0eb9e30999f = L.circleMarker(\n                [34.63283416, -120.6107455],\n                {&quot;bubblingMouseEvents&quot;: true, &quot;color&quot;: &quot;red&quot;, &quot;dashArray&quot;: null, &quot;dashOffset&quot;: null, &quot;fill&quot;: true, &quot;fillColor&quot;: &quot;red&quot;, &quot;fillOpacity&quot;: 0.8, &quot;fillRule&quot;: &quot;evenodd&quot;, &quot;lineCap&quot;: &quot;round&quot;, &quot;lineJoin&quot;: &quot;round&quot;, &quot;opacity&quot;: 1.0, &quot;radius&quot;: 3, &quot;stroke&quot;: true, &quot;weight&quot;: 3}\n            ).addTo(feature_group_a1c0e3a8af2ba8533fd9a0d2bf6e8bad);\n        \n    \n        var popup_9671e9e1c55fd10e01d0bab0c24e6d04 = L.popup({&quot;maxWidth&quot;: &quot;100%&quot;});\n\n        \n            \n                var html_a888766219452b2d7a0059242f4447cf = $(`&lt;div id=&quot;html_a888766219452b2d7a0059242f4447cf&quot; style=&quot;width: 100.0%; height: 100.0%;&quot;&gt;VAFB SLC-4E&lt;/div&gt;`)[0];\n                popup_9671e9e1c55fd10e01d0bab0c24e6d04.setContent(html_a888766219452b2d7a0059242f4447cf);\n            \n        \n\n        circle_marker_8a83ab9bd0caf09ae927f0eb9e30999f.bindPopup(popup_9671e9e1c55fd10e01d0bab0c24e6d04)\n        ;\n\n        \n    \n    \n            feature_group_a1c0e3a8af2ba8533fd9a0d2bf6e8bad.addTo(map_d37110a990dcdcc633fce9300c35aa0f);\n        \n    \n            tile_layer_962d236166f26ab1a13757d694f21ff9.addTo(map_d37110a990dcdcc633fce9300c35aa0f);\n        \n    \n            feature_group_a1c0e3a8af2ba8533fd9a0d2bf6e8bad.addTo(map_d37110a990dcdcc633fce9300c35aa0f);\n        \n    \n            var marker_cluster_acf0b989549018dc194c9191fee82448 = L.markerClusterGroup(\n                {}\n            );\n        \n    \n            var marker_fa7d054481e0d6deeb210bc95f9c3b60 = L.marker(\n                [28.56230197, -80.57735648],\n                {&quot;color&quot;: &quot;red&quot;}\n            ).addTo(marker_cluster_acf0b989549018dc194c9191fee82448);\n        \n    \n            var marker_bbba7f6a52758c58e218621f8cd277a6 = L.marker(\n                [28.56230197, -80.57735648],\n                {&quot;color&quot;: &quot;red&quot;}\n            ).addTo(marker_cluster_acf0b989549018dc194c9191fee82448);\n        \n    \n            var marker_23dfe840219f0ccab601f0efc1a8d631 = L.marker(\n                [28.56230197, -80.57735648],\n                {&quot;color&quot;: &quot;red&quot;}\n            ).addTo(marker_cluster_acf0b989549018dc194c9191fee82448);\n        \n    \n            var marker_81b3eabaf556fc0b3bfb854644e779ed = L.marker(\n                [28.56230197, -80.57735648],\n                {&quot;color&quot;: &quot;red&quot;}\n            ).addTo(marker_cluster_acf0b989549018dc194c9191fee82448);\n        \n    \n            var marker_deb264118eada8c5272af03d216ffcb8 = L.marker(\n                [28.56230197, -80.57735648],\n                {&quot;color&quot;: &quot;red&quot;}\n            ).addTo(marker_cluster_acf0b989549018dc194c9191fee82448);\n        \n    \n            var marker_a0692aca8aa4d869a6c29795a2889671 = L.marker(\n                [28.56230197, -80.57735648],\n                {&quot;color&quot;: &quot;red&quot;}\n            ).addTo(marker_cluster_acf0b989549018dc194c9191fee82448);\n        \n    \n            var marker_4993631c43d92a2e8493e5be5bbdd9ce = L.marker(\n                [28.56230197, -80.57735648],\n                {&quot;color&quot;: &quot;red&quot;}\n            ).addTo(marker_cluster_acf0b989549018dc194c9191fee82448);\n        \n    \n            var marker_a27b0b1a8acd6502120b1b458c04cad9 = L.marker(\n                [28.56230197, -80.57735648],\n                {&quot;color&quot;: &quot;red&quot;}\n            ).addTo(marker_cluster_acf0b989549018dc194c9191fee82448);\n        \n    \n            var marker_47227f731baab9fc34e0ff0cd2c45ff2 = L.marker(\n                [28.56230197, -80.57735648],\n                {&quot;color&quot;: &quot;red&quot;}\n            ).addTo(marker_cluster_acf0b989549018dc194c9191fee82448);\n        \n    \n            var marker_cfd8cfdec850f6baf314523d13a5c423 = L.marker(\n                [28.56230197, -80.57735648],\n                {&quot;color&quot;: &quot;red&quot;}\n            ).addTo(marker_cluster_acf0b989549018dc194c9191fee82448);\n        \n    \n            var marker_95085d355a690e0f3235cefbc1d87762 = L.marker(\n                [28.56230197, -80.57735648],\n                {&quot;color&quot;: &quot;red&quot;}\n            ).addTo(marker_cluster_acf0b989549018dc194c9191fee82448);\n        \n    \n            var marker_ab600bd5081b49265195f7f97e957be0 = L.marker(\n                [28.56230197, -80.57735648],\n                {&quot;color&quot;: &quot;red&quot;}\n            ).addTo(marker_cluster_acf0b989549018dc194c9191fee82448);\n        \n    \n            var marker_fcacfba2e8cd84f247626c4a6c242e4d = L.marker(\n                [28.56230197, -80.57735648],\n                {&quot;color&quot;: &quot;red&quot;}\n            ).addTo(marker_cluster_acf0b989549018dc194c9191fee82448);\n        \n    \n            var marker_d4bfebbe922813a336b8e765fa9d14d8 = L.marker(\n                [28.56230197, -80.57735648],\n                {&quot;color&quot;: &quot;red&quot;}\n            ).addTo(marker_cluster_acf0b989549018dc194c9191fee82448);\n        \n    \n            var marker_3fcd4de6123840cd4c3f904a8c79a3b7 = L.marker(\n                [28.56230197, -80.57735648],\n                {&quot;color&quot;: &quot;red&quot;}\n            ).addTo(marker_cluster_acf0b989549018dc194c9191fee82448);\n        \n    \n            var marker_ff4c72b51eb2546b86955767ae316d17 = L.marker(\n                [28.56230197, -80.57735648],\n                {&quot;color&quot;: &quot;red&quot;}\n            ).addTo(marker_cluster_acf0b989549018dc194c9191fee82448);\n        \n    \n            var marker_6ffb82747310098e48a0c2a0db57aac5 = L.marker(\n                [28.56230197, -80.57735648],\n                {&quot;color&quot;: &quot;red&quot;}\n            ).addTo(marker_cluster_acf0b989549018dc194c9191fee82448);\n        \n    \n            var marker_a101b2fa310caac83cb4fd29f9e1c397 = L.marker(\n                [28.56230197, -80.57735648],\n                {&quot;color&quot;: &quot;green&quot;}\n            ).addTo(marker_cluster_acf0b989549018dc194c9191fee82448);\n        \n    \n            var marker_94da3c5d0ac3af28650eba5963b6e106 = L.marker(\n                [28.56230197, -80.57735648],\n                {&quot;color&quot;: &quot;green&quot;}\n            ).addTo(marker_cluster_acf0b989549018dc194c9191fee82448);\n        \n    \n            var marker_dce6fe260559eae099b0414d25fbb8fb = L.marker(\n                [28.56230197, -80.57735648],\n                {&quot;color&quot;: &quot;red&quot;}\n            ).addTo(marker_cluster_acf0b989549018dc194c9191fee82448);\n        \n    \n            var marker_69ab979767e06829ee9418a59373bac5 = L.marker(\n                [28.56230197, -80.57735648],\n                {&quot;color&quot;: &quot;green&quot;}\n            ).addTo(marker_cluster_acf0b989549018dc194c9191fee82448);\n        \n    \n            var marker_f78c33559e04d079d49a346d8f92cec4 = L.marker(\n                [28.56230197, -80.57735648],\n                {&quot;color&quot;: &quot;green&quot;}\n            ).addTo(marker_cluster_acf0b989549018dc194c9191fee82448);\n        \n    \n            var marker_19ddbf006aeda42c72739647f0382a2c = L.marker(\n                [28.56230197, -80.57735648],\n                {&quot;color&quot;: &quot;green&quot;}\n            ).addTo(marker_cluster_acf0b989549018dc194c9191fee82448);\n        \n    \n            var marker_5c1d38d2726867d0287aa70bb402ff73 = L.marker(\n                [28.56230197, -80.57735648],\n                {&quot;color&quot;: &quot;red&quot;}\n            ).addTo(marker_cluster_acf0b989549018dc194c9191fee82448);\n        \n    \n            var marker_32981b7089c2d0fa589c88a915c0245f = L.marker(\n                [28.56230197, -80.57735648],\n                {&quot;color&quot;: &quot;green&quot;}\n            ).addTo(marker_cluster_acf0b989549018dc194c9191fee82448);\n        \n    \n            var marker_d5660bbf67f17aa01238552e63a13268 = L.marker(\n                [28.56230197, -80.57735648],\n                {&quot;color&quot;: &quot;green&quot;}\n            ).addTo(marker_cluster_acf0b989549018dc194c9191fee82448);\n        \n    \n            var marker_9a213a876d5b855996d687beeff9c23f = L.marker(\n                [34.63283416, -120.6107455],\n                {&quot;color&quot;: &quot;red&quot;}\n            ).addTo(marker_cluster_acf0b989549018dc194c9191fee82448);\n        \n    \n            var marker_5a97df34a2923dec20cb755be4171799 = L.marker(\n                [34.63283416, -120.6107455],\n                {&quot;color&quot;: &quot;red&quot;}\n            ).addTo(marker_cluster_acf0b989549018dc194c9191fee82448);\n        \n    \n            var marker_3df98ddea269df706b2009933f99dbe9 = L.marker(\n                [34.63283416, -120.6107455],\n                {&quot;color&quot;: &quot;green&quot;}\n            ).addTo(marker_cluster_acf0b989549018dc194c9191fee82448);\n        \n    \n            var marker_d8e6b311ec5b2f088766bdf7414e3be0 = L.marker(\n                [34.63283416, -120.6107455],\n                {&quot;color&quot;: &quot;green&quot;}\n            ).addTo(marker_cluster_acf0b989549018dc194c9191fee82448);\n        \n    \n            var marker_b5cf4e2c8ece8c191a276c6f2c39e1a8 = L.marker(\n                [34.63283416, -120.6107455],\n                {&quot;color&quot;: &quot;green&quot;}\n            ).addTo(marker_cluster_acf0b989549018dc194c9191fee82448);\n        \n    \n            var marker_0485a6404f1478413ab938318ac4bd49 = L.marker(\n                [34.63283416, -120.6107455],\n                {&quot;color&quot;: &quot;green&quot;}\n            ).addTo(marker_cluster_acf0b989549018dc194c9191fee82448);\n        \n    \n            var marker_454348a01e0126f540d7807fe761b341 = L.marker(\n                [34.63283416, -120.6107455],\n                {&quot;color&quot;: &quot;red&quot;}\n            ).addTo(marker_cluster_acf0b989549018dc194c9191fee82448);\n        \n    \n            var marker_1940708c600487f74e27477b5b7c1489 = L.marker(\n                [34.63283416, -120.6107455],\n                {&quot;color&quot;: &quot;red&quot;}\n            ).addTo(marker_cluster_acf0b989549018dc194c9191fee82448);\n        \n    \n            var marker_6c20130e3a35192cb8bf6b5b400cdbba = L.marker(\n                [34.63283416, -120.6107455],\n                {&quot;color&quot;: &quot;red&quot;}\n            ).addTo(marker_cluster_acf0b989549018dc194c9191fee82448);\n        \n    \n            var marker_293988da4e6c799b510374a32f8713b7 = L.marker(\n                [34.63283416, -120.6107455],\n                {&quot;color&quot;: &quot;red&quot;}\n            ).addTo(marker_cluster_acf0b989549018dc194c9191fee82448);\n        \n    \n            var marker_ee20c0e8c1f5e5f6820ae3b370997a64 = L.marker(\n                [28.57325457, -80.64689529],\n                {&quot;color&quot;: &quot;green&quot;}\n            ).addTo(marker_cluster_acf0b989549018dc194c9191fee82448);\n        \n    \n            var marker_3e4169ddada5503b887f3915991db578 = L.marker(\n                [28.57325457, -80.64689529],\n                {&quot;color&quot;: &quot;red&quot;}\n            ).addTo(marker_cluster_acf0b989549018dc194c9191fee82448);\n        \n    \n            var marker_09dfd15b3c762742f6fc923f91f6b915 = L.marker(\n                [28.57325457, -80.64689529],\n                {&quot;color&quot;: &quot;green&quot;}\n            ).addTo(marker_cluster_acf0b989549018dc194c9191fee82448);\n        \n    \n            var marker_ee8f68ee14f9fb6260d3a6b68dbee9b1 = L.marker(\n                [28.57325457, -80.64689529],\n                {&quot;color&quot;: &quot;green&quot;}\n            ).addTo(marker_cluster_acf0b989549018dc194c9191fee82448);\n        \n    \n            var marker_cbf0de9e7ee16b8dd012a334e643ad88 = L.marker(\n                [28.57325457, -80.64689529],\n                {&quot;color&quot;: &quot;red&quot;}\n            ).addTo(marker_cluster_acf0b989549018dc194c9191fee82448);\n        \n    \n            var marker_f2865d0c72fdcd90578b92094fa514a6 = L.marker(\n                [28.57325457, -80.64689529],\n                {&quot;color&quot;: &quot;green&quot;}\n            ).addTo(marker_cluster_acf0b989549018dc194c9191fee82448);\n        \n    \n            var marker_dce795bc604ca9c67f59fa2e221172a8 = L.marker(\n                [28.57325457, -80.64689529],\n                {&quot;color&quot;: &quot;green&quot;}\n            ).addTo(marker_cluster_acf0b989549018dc194c9191fee82448);\n        \n    \n            var marker_cf095fef50f402601e18d1bd6a5f37fc = L.marker(\n                [28.57325457, -80.64689529],\n                {&quot;color&quot;: &quot;red&quot;}\n            ).addTo(marker_cluster_acf0b989549018dc194c9191fee82448);\n        \n    \n            var marker_32b07e03012914be63f68bc7937c4679 = L.marker(\n                [28.57325457, -80.64689529],\n                {&quot;color&quot;: &quot;green&quot;}\n            ).addTo(marker_cluster_acf0b989549018dc194c9191fee82448);\n        \n    \n            var marker_7a3ac521bcbb957b94f6bf52cc210eb0 = L.marker(\n                [28.57325457, -80.64689529],\n                {&quot;color&quot;: &quot;green&quot;}\n            ).addTo(marker_cluster_acf0b989549018dc194c9191fee82448);\n        \n    \n            var marker_8f17b9c3e80fd9c667a2c8bf95c4217f = L.marker(\n                [28.57325457, -80.64689529],\n                {&quot;color&quot;: &quot;green&quot;}\n            ).addTo(marker_cluster_acf0b989549018dc194c9191fee82448);\n        \n    \n            var marker_679fcfdb44aba48905d85babc06728fb = L.marker(\n                [28.57325457, -80.64689529],\n                {&quot;color&quot;: &quot;green&quot;}\n            ).addTo(marker_cluster_acf0b989549018dc194c9191fee82448);\n        \n    \n            var marker_3fd7baefa839ecfc3a28959d2b8902a2 = L.marker(\n                [28.57325457, -80.64689529],\n                {&quot;color&quot;: &quot;green&quot;}\n            ).addTo(marker_cluster_acf0b989549018dc194c9191fee82448);\n        \n    \n            var marker_a1614670c33f69336ebe03cf9efd529f = L.marker(\n                [28.56319718, -80.57682003],\n                {&quot;color&quot;: &quot;green&quot;}\n            ).addTo(marker_cluster_acf0b989549018dc194c9191fee82448);\n        \n    \n            var marker_3b84f65e35c08d186d318c95c1d1ee58 = L.marker(\n                [28.56319718, -80.57682003],\n                {&quot;color&quot;: &quot;green&quot;}\n            ).addTo(marker_cluster_acf0b989549018dc194c9191fee82448);\n        \n    \n            var marker_74671d8ef6a0af70bca5b263694745c4 = L.marker(\n                [28.56319718, -80.57682003],\n                {&quot;color&quot;: &quot;red&quot;}\n            ).addTo(marker_cluster_acf0b989549018dc194c9191fee82448);\n        \n    \n            var marker_52cfd7d9fff80fb2de219890ea1b57ab = L.marker(\n                [28.56319718, -80.57682003],\n                {&quot;color&quot;: &quot;red&quot;}\n            ).addTo(marker_cluster_acf0b989549018dc194c9191fee82448);\n        \n    \n            var marker_8860f762bcf09fcb44e75aea2c0ff050 = L.marker(\n                [28.56319718, -80.57682003],\n                {&quot;color&quot;: &quot;red&quot;}\n            ).addTo(marker_cluster_acf0b989549018dc194c9191fee82448);\n        \n    \n            var marker_1317ed734cefb3a3195a9f6ff2740ae1 = L.marker(\n                [28.56319718, -80.57682003],\n                {&quot;color&quot;: &quot;green&quot;}\n            ).addTo(marker_cluster_acf0b989549018dc194c9191fee82448);\n        \n    \n            var marker_5dd93889b778b5e36c6b7882acef597d = L.marker(\n                [28.56319718, -80.57682003],\n                {&quot;color&quot;: &quot;red&quot;}\n            ).addTo(marker_cluster_acf0b989549018dc194c9191fee82448);\n        \n    \n            marker_cluster_acf0b989549018dc194c9191fee82448.addTo(map_d37110a990dcdcc633fce9300c35aa0f);\n        \n&lt;/script&gt;\n&lt;/html&gt;\" style=\"position:absolute;width:100%;height:100%;left:0;top:0;border:none !important;\" allowfullscreen webkitallowfullscreen mozallowfullscreen></iframe></div></div>"
          },
          "metadata": {}
        }
      ],
      "execution_count": 28
    },
    {
      "cell_type": "markdown",
      "source": "Your updated map may look like the following screenshots:\n",
      "metadata": {}
    },
    {
      "cell_type": "markdown",
      "source": "<center>\n    <img src=\"https://cf-courses-data.s3.us.cloud-object-storage.appdomain.cloud/IBM-DS0321EN-SkillsNetwork/labs/module_3/images/launch_site_marker_cluster.png\">\n</center>\n",
      "metadata": {}
    },
    {
      "cell_type": "markdown",
      "source": "<center>\n    <img src=\"https://cf-courses-data.s3.us.cloud-object-storage.appdomain.cloud/IBM-DS0321EN-SkillsNetwork/labs/module_3/images/launch_site_marker_cluster_zoomed.png\">\n</center>\n",
      "metadata": {}
    },
    {
      "cell_type": "markdown",
      "source": "From the color-labeled markers in marker clusters, you should be able to easily identify which launch sites have relatively high success rates.\n",
      "metadata": {}
    },
    {
      "cell_type": "code",
      "source": "# TASK 3: Calculate the distances between a launch site to its proximities\n",
      "metadata": {},
      "outputs": [],
      "execution_count": null
    },
    {
      "cell_type": "markdown",
      "source": "Next, we need to explore and analyze the proximities of launch sites.\n",
      "metadata": {}
    },
    {
      "cell_type": "markdown",
      "source": "Let's first add a `MousePosition` on the map to get coordinate for a mouse over a point on the map. As such, while you are exploring the map, you can easily find the coordinates of any points of interests (such as railway)\n",
      "metadata": {}
    },
    {
      "cell_type": "code",
      "source": "# Add Mouse Position to get the coordinate (Lat, Long) for a mouse over on the map\nformatter = \"function(num) {return L.Util.formatNum(num, 5);};\"\nmouse_position = MousePosition(\n    position='topright',\n    separator=' Long: ',\n    empty_string='NaN',\n    lng_first=False,\n    num_digits=20,\n    prefix='Lat:',\n    lat_formatter=formatter,\n    lng_formatter=formatter,\n)\n\nsite_map.add_child(mouse_position)\nsite_map",
      "metadata": {
        "trusted": true
      },
      "outputs": [
        {
          "execution_count": 29,
          "output_type": "execute_result",
          "data": {
            "text/plain": "<folium.folium.Map at 0x5ae7018>",
            "text/html": "<div style=\"width:100%;\"><div style=\"position:relative;width:100%;height:0;padding-bottom:60%;\"><span style=\"color:#565656\">Make this Notebook Trusted to load map: File -> Trust Notebook</span><iframe srcdoc=\"&lt;!DOCTYPE html&gt;\n&lt;html&gt;\n&lt;head&gt;\n    \n    &lt;meta http-equiv=&quot;content-type&quot; content=&quot;text/html; charset=UTF-8&quot; /&gt;\n    \n        &lt;script&gt;\n            L_NO_TOUCH = false;\n            L_DISABLE_3D = false;\n        &lt;/script&gt;\n    \n    &lt;style&gt;html, body {width: 100%;height: 100%;margin: 0;padding: 0;}&lt;/style&gt;\n    &lt;style&gt;#map {position:absolute;top:0;bottom:0;right:0;left:0;}&lt;/style&gt;\n    &lt;script src=&quot;https://cdn.jsdelivr.net/npm/leaflet@1.9.3/dist/leaflet.js&quot;&gt;&lt;/script&gt;\n    &lt;script src=&quot;https://code.jquery.com/jquery-3.7.1.min.js&quot;&gt;&lt;/script&gt;\n    &lt;script src=&quot;https://cdn.jsdelivr.net/npm/bootstrap@5.2.2/dist/js/bootstrap.bundle.min.js&quot;&gt;&lt;/script&gt;\n    &lt;script src=&quot;https://cdnjs.cloudflare.com/ajax/libs/Leaflet.awesome-markers/2.0.2/leaflet.awesome-markers.js&quot;&gt;&lt;/script&gt;\n    &lt;link rel=&quot;stylesheet&quot; href=&quot;https://cdn.jsdelivr.net/npm/leaflet@1.9.3/dist/leaflet.css&quot;/&gt;\n    &lt;link rel=&quot;stylesheet&quot; href=&quot;https://cdn.jsdelivr.net/npm/bootstrap@5.2.2/dist/css/bootstrap.min.css&quot;/&gt;\n    &lt;link rel=&quot;stylesheet&quot; href=&quot;https://netdna.bootstrapcdn.com/bootstrap/3.0.0/css/bootstrap.min.css&quot;/&gt;\n    &lt;link rel=&quot;stylesheet&quot; href=&quot;https://cdn.jsdelivr.net/npm/@fortawesome/fontawesome-free@6.2.0/css/all.min.css&quot;/&gt;\n    &lt;link rel=&quot;stylesheet&quot; href=&quot;https://cdnjs.cloudflare.com/ajax/libs/Leaflet.awesome-markers/2.0.2/leaflet.awesome-markers.css&quot;/&gt;\n    &lt;link rel=&quot;stylesheet&quot; href=&quot;https://cdn.jsdelivr.net/gh/python-visualization/folium/folium/templates/leaflet.awesome.rotate.min.css&quot;/&gt;\n    \n            &lt;meta name=&quot;viewport&quot; content=&quot;width=device-width,\n                initial-scale=1.0, maximum-scale=1.0, user-scalable=no&quot; /&gt;\n            &lt;style&gt;\n                #map_d37110a990dcdcc633fce9300c35aa0f {\n                    position: relative;\n                    width: 100.0%;\n                    height: 100.0%;\n                    left: 0.0%;\n                    top: 0.0%;\n                }\n                .leaflet-container { font-size: 1rem; }\n            &lt;/style&gt;\n        \n    &lt;script src=&quot;https://cdnjs.cloudflare.com/ajax/libs/leaflet.markercluster/1.1.0/leaflet.markercluster.js&quot;&gt;&lt;/script&gt;\n    &lt;link rel=&quot;stylesheet&quot; href=&quot;https://cdnjs.cloudflare.com/ajax/libs/leaflet.markercluster/1.1.0/MarkerCluster.css&quot;/&gt;\n    &lt;link rel=&quot;stylesheet&quot; href=&quot;https://cdnjs.cloudflare.com/ajax/libs/leaflet.markercluster/1.1.0/MarkerCluster.Default.css&quot;/&gt;\n    &lt;script src=&quot;https://cdn.jsdelivr.net/gh/ardhi/Leaflet.MousePosition/src/L.Control.MousePosition.min.js&quot;&gt;&lt;/script&gt;\n    &lt;link rel=&quot;stylesheet&quot; href=&quot;https://cdn.jsdelivr.net/gh/ardhi/Leaflet.MousePosition/src/L.Control.MousePosition.min.css&quot;/&gt;\n&lt;/head&gt;\n&lt;body&gt;\n    \n    \n            &lt;div class=&quot;folium-map&quot; id=&quot;map_d37110a990dcdcc633fce9300c35aa0f&quot; &gt;&lt;/div&gt;\n        \n&lt;/body&gt;\n&lt;script&gt;\n    \n    \n            var map_d37110a990dcdcc633fce9300c35aa0f = L.map(\n                &quot;map_d37110a990dcdcc633fce9300c35aa0f&quot;,\n                {\n                    center: [29.559684888503615, -95.0830971930759],\n                    crs: L.CRS.EPSG3857,\n                    zoom: 5,\n                    zoomControl: true,\n                    preferCanvas: false,\n                }\n            );\n\n            \n\n        \n    \n            var tile_layer_962d236166f26ab1a13757d694f21ff9 = L.tileLayer(\n                &quot;https://tile.openstreetmap.org/{z}/{x}/{y}.png&quot;,\n                {&quot;attribution&quot;: &quot;\\u0026copy; \\u003ca href=\\&quot;https://www.openstreetmap.org/copyright\\&quot;\\u003eOpenStreetMap\\u003c/a\\u003e contributors&quot;, &quot;detectRetina&quot;: false, &quot;maxNativeZoom&quot;: 19, &quot;maxZoom&quot;: 19, &quot;minZoom&quot;: 0, &quot;noWrap&quot;: false, &quot;opacity&quot;: 1, &quot;subdomains&quot;: &quot;abc&quot;, &quot;tms&quot;: false}\n            );\n        \n    \n            tile_layer_962d236166f26ab1a13757d694f21ff9.addTo(map_d37110a990dcdcc633fce9300c35aa0f);\n        \n    \n            var feature_group_a1c0e3a8af2ba8533fd9a0d2bf6e8bad = L.featureGroup(\n                {}\n            );\n        \n    \n            var circle_marker_f68ac90a373ad5cbcdebdd39438bdd94 = L.circleMarker(\n                [28.56230197, -80.57735648],\n                {&quot;bubblingMouseEvents&quot;: true, &quot;color&quot;: &quot;red&quot;, &quot;dashArray&quot;: null, &quot;dashOffset&quot;: null, &quot;fill&quot;: true, &quot;fillColor&quot;: &quot;red&quot;, &quot;fillOpacity&quot;: 0.8, &quot;fillRule&quot;: &quot;evenodd&quot;, &quot;lineCap&quot;: &quot;round&quot;, &quot;lineJoin&quot;: &quot;round&quot;, &quot;opacity&quot;: 1.0, &quot;radius&quot;: 3, &quot;stroke&quot;: true, &quot;weight&quot;: 3}\n            ).addTo(feature_group_a1c0e3a8af2ba8533fd9a0d2bf6e8bad);\n        \n    \n        var popup_cd9b3cafc4b884f45e8da9254fe247a2 = L.popup({&quot;maxWidth&quot;: &quot;100%&quot;});\n\n        \n            \n                var html_271b0e83eb7e607e9817f535605e92f5 = $(`&lt;div id=&quot;html_271b0e83eb7e607e9817f535605e92f5&quot; style=&quot;width: 100.0%; height: 100.0%;&quot;&gt;CCAFS LC-40&lt;/div&gt;`)[0];\n                popup_cd9b3cafc4b884f45e8da9254fe247a2.setContent(html_271b0e83eb7e607e9817f535605e92f5);\n            \n        \n\n        circle_marker_f68ac90a373ad5cbcdebdd39438bdd94.bindPopup(popup_cd9b3cafc4b884f45e8da9254fe247a2)\n        ;\n\n        \n    \n    \n            var circle_marker_ab57820d5f0922b104f0ffb6bf66ebec = L.circleMarker(\n                [28.56319718, -80.57682003],\n                {&quot;bubblingMouseEvents&quot;: true, &quot;color&quot;: &quot;red&quot;, &quot;dashArray&quot;: null, &quot;dashOffset&quot;: null, &quot;fill&quot;: true, &quot;fillColor&quot;: &quot;red&quot;, &quot;fillOpacity&quot;: 0.8, &quot;fillRule&quot;: &quot;evenodd&quot;, &quot;lineCap&quot;: &quot;round&quot;, &quot;lineJoin&quot;: &quot;round&quot;, &quot;opacity&quot;: 1.0, &quot;radius&quot;: 3, &quot;stroke&quot;: true, &quot;weight&quot;: 3}\n            ).addTo(feature_group_a1c0e3a8af2ba8533fd9a0d2bf6e8bad);\n        \n    \n        var popup_bfb323e8cbf854a4bb8a48604815fb45 = L.popup({&quot;maxWidth&quot;: &quot;100%&quot;});\n\n        \n            \n                var html_6b98f0ae5cc3fcd2cf27982c2e2b225e = $(`&lt;div id=&quot;html_6b98f0ae5cc3fcd2cf27982c2e2b225e&quot; style=&quot;width: 100.0%; height: 100.0%;&quot;&gt;CCAFS SLC-40&lt;/div&gt;`)[0];\n                popup_bfb323e8cbf854a4bb8a48604815fb45.setContent(html_6b98f0ae5cc3fcd2cf27982c2e2b225e);\n            \n        \n\n        circle_marker_ab57820d5f0922b104f0ffb6bf66ebec.bindPopup(popup_bfb323e8cbf854a4bb8a48604815fb45)\n        ;\n\n        \n    \n    \n            var circle_marker_10f0722b6cd6877bada53880af16a3b1 = L.circleMarker(\n                [28.57325457, -80.64689529],\n                {&quot;bubblingMouseEvents&quot;: true, &quot;color&quot;: &quot;red&quot;, &quot;dashArray&quot;: null, &quot;dashOffset&quot;: null, &quot;fill&quot;: true, &quot;fillColor&quot;: &quot;red&quot;, &quot;fillOpacity&quot;: 0.8, &quot;fillRule&quot;: &quot;evenodd&quot;, &quot;lineCap&quot;: &quot;round&quot;, &quot;lineJoin&quot;: &quot;round&quot;, &quot;opacity&quot;: 1.0, &quot;radius&quot;: 3, &quot;stroke&quot;: true, &quot;weight&quot;: 3}\n            ).addTo(feature_group_a1c0e3a8af2ba8533fd9a0d2bf6e8bad);\n        \n    \n        var popup_13fdc542d1f1da26f9895d20cce77006 = L.popup({&quot;maxWidth&quot;: &quot;100%&quot;});\n\n        \n            \n                var html_65598adedc0f7f2675a1c947968654f1 = $(`&lt;div id=&quot;html_65598adedc0f7f2675a1c947968654f1&quot; style=&quot;width: 100.0%; height: 100.0%;&quot;&gt;KSC LC-39A&lt;/div&gt;`)[0];\n                popup_13fdc542d1f1da26f9895d20cce77006.setContent(html_65598adedc0f7f2675a1c947968654f1);\n            \n        \n\n        circle_marker_10f0722b6cd6877bada53880af16a3b1.bindPopup(popup_13fdc542d1f1da26f9895d20cce77006)\n        ;\n\n        \n    \n    \n            var circle_marker_8a83ab9bd0caf09ae927f0eb9e30999f = L.circleMarker(\n                [34.63283416, -120.6107455],\n                {&quot;bubblingMouseEvents&quot;: true, &quot;color&quot;: &quot;red&quot;, &quot;dashArray&quot;: null, &quot;dashOffset&quot;: null, &quot;fill&quot;: true, &quot;fillColor&quot;: &quot;red&quot;, &quot;fillOpacity&quot;: 0.8, &quot;fillRule&quot;: &quot;evenodd&quot;, &quot;lineCap&quot;: &quot;round&quot;, &quot;lineJoin&quot;: &quot;round&quot;, &quot;opacity&quot;: 1.0, &quot;radius&quot;: 3, &quot;stroke&quot;: true, &quot;weight&quot;: 3}\n            ).addTo(feature_group_a1c0e3a8af2ba8533fd9a0d2bf6e8bad);\n        \n    \n        var popup_9671e9e1c55fd10e01d0bab0c24e6d04 = L.popup({&quot;maxWidth&quot;: &quot;100%&quot;});\n\n        \n            \n                var html_a888766219452b2d7a0059242f4447cf = $(`&lt;div id=&quot;html_a888766219452b2d7a0059242f4447cf&quot; style=&quot;width: 100.0%; height: 100.0%;&quot;&gt;VAFB SLC-4E&lt;/div&gt;`)[0];\n                popup_9671e9e1c55fd10e01d0bab0c24e6d04.setContent(html_a888766219452b2d7a0059242f4447cf);\n            \n        \n\n        circle_marker_8a83ab9bd0caf09ae927f0eb9e30999f.bindPopup(popup_9671e9e1c55fd10e01d0bab0c24e6d04)\n        ;\n\n        \n    \n    \n            feature_group_a1c0e3a8af2ba8533fd9a0d2bf6e8bad.addTo(map_d37110a990dcdcc633fce9300c35aa0f);\n        \n    \n            tile_layer_962d236166f26ab1a13757d694f21ff9.addTo(map_d37110a990dcdcc633fce9300c35aa0f);\n        \n    \n            feature_group_a1c0e3a8af2ba8533fd9a0d2bf6e8bad.addTo(map_d37110a990dcdcc633fce9300c35aa0f);\n        \n    \n            var marker_cluster_acf0b989549018dc194c9191fee82448 = L.markerClusterGroup(\n                {}\n            );\n        \n    \n            var marker_fa7d054481e0d6deeb210bc95f9c3b60 = L.marker(\n                [28.56230197, -80.57735648],\n                {&quot;color&quot;: &quot;red&quot;}\n            ).addTo(marker_cluster_acf0b989549018dc194c9191fee82448);\n        \n    \n            var marker_bbba7f6a52758c58e218621f8cd277a6 = L.marker(\n                [28.56230197, -80.57735648],\n                {&quot;color&quot;: &quot;red&quot;}\n            ).addTo(marker_cluster_acf0b989549018dc194c9191fee82448);\n        \n    \n            var marker_23dfe840219f0ccab601f0efc1a8d631 = L.marker(\n                [28.56230197, -80.57735648],\n                {&quot;color&quot;: &quot;red&quot;}\n            ).addTo(marker_cluster_acf0b989549018dc194c9191fee82448);\n        \n    \n            var marker_81b3eabaf556fc0b3bfb854644e779ed = L.marker(\n                [28.56230197, -80.57735648],\n                {&quot;color&quot;: &quot;red&quot;}\n            ).addTo(marker_cluster_acf0b989549018dc194c9191fee82448);\n        \n    \n            var marker_deb264118eada8c5272af03d216ffcb8 = L.marker(\n                [28.56230197, -80.57735648],\n                {&quot;color&quot;: &quot;red&quot;}\n            ).addTo(marker_cluster_acf0b989549018dc194c9191fee82448);\n        \n    \n            var marker_a0692aca8aa4d869a6c29795a2889671 = L.marker(\n                [28.56230197, -80.57735648],\n                {&quot;color&quot;: &quot;red&quot;}\n            ).addTo(marker_cluster_acf0b989549018dc194c9191fee82448);\n        \n    \n            var marker_4993631c43d92a2e8493e5be5bbdd9ce = L.marker(\n                [28.56230197, -80.57735648],\n                {&quot;color&quot;: &quot;red&quot;}\n            ).addTo(marker_cluster_acf0b989549018dc194c9191fee82448);\n        \n    \n            var marker_a27b0b1a8acd6502120b1b458c04cad9 = L.marker(\n                [28.56230197, -80.57735648],\n                {&quot;color&quot;: &quot;red&quot;}\n            ).addTo(marker_cluster_acf0b989549018dc194c9191fee82448);\n        \n    \n            var marker_47227f731baab9fc34e0ff0cd2c45ff2 = L.marker(\n                [28.56230197, -80.57735648],\n                {&quot;color&quot;: &quot;red&quot;}\n            ).addTo(marker_cluster_acf0b989549018dc194c9191fee82448);\n        \n    \n            var marker_cfd8cfdec850f6baf314523d13a5c423 = L.marker(\n                [28.56230197, -80.57735648],\n                {&quot;color&quot;: &quot;red&quot;}\n            ).addTo(marker_cluster_acf0b989549018dc194c9191fee82448);\n        \n    \n            var marker_95085d355a690e0f3235cefbc1d87762 = L.marker(\n                [28.56230197, -80.57735648],\n                {&quot;color&quot;: &quot;red&quot;}\n            ).addTo(marker_cluster_acf0b989549018dc194c9191fee82448);\n        \n    \n            var marker_ab600bd5081b49265195f7f97e957be0 = L.marker(\n                [28.56230197, -80.57735648],\n                {&quot;color&quot;: &quot;red&quot;}\n            ).addTo(marker_cluster_acf0b989549018dc194c9191fee82448);\n        \n    \n            var marker_fcacfba2e8cd84f247626c4a6c242e4d = L.marker(\n                [28.56230197, -80.57735648],\n                {&quot;color&quot;: &quot;red&quot;}\n            ).addTo(marker_cluster_acf0b989549018dc194c9191fee82448);\n        \n    \n            var marker_d4bfebbe922813a336b8e765fa9d14d8 = L.marker(\n                [28.56230197, -80.57735648],\n                {&quot;color&quot;: &quot;red&quot;}\n            ).addTo(marker_cluster_acf0b989549018dc194c9191fee82448);\n        \n    \n            var marker_3fcd4de6123840cd4c3f904a8c79a3b7 = L.marker(\n                [28.56230197, -80.57735648],\n                {&quot;color&quot;: &quot;red&quot;}\n            ).addTo(marker_cluster_acf0b989549018dc194c9191fee82448);\n        \n    \n            var marker_ff4c72b51eb2546b86955767ae316d17 = L.marker(\n                [28.56230197, -80.57735648],\n                {&quot;color&quot;: &quot;red&quot;}\n            ).addTo(marker_cluster_acf0b989549018dc194c9191fee82448);\n        \n    \n            var marker_6ffb82747310098e48a0c2a0db57aac5 = L.marker(\n                [28.56230197, -80.57735648],\n                {&quot;color&quot;: &quot;red&quot;}\n            ).addTo(marker_cluster_acf0b989549018dc194c9191fee82448);\n        \n    \n            var marker_a101b2fa310caac83cb4fd29f9e1c397 = L.marker(\n                [28.56230197, -80.57735648],\n                {&quot;color&quot;: &quot;green&quot;}\n            ).addTo(marker_cluster_acf0b989549018dc194c9191fee82448);\n        \n    \n            var marker_94da3c5d0ac3af28650eba5963b6e106 = L.marker(\n                [28.56230197, -80.57735648],\n                {&quot;color&quot;: &quot;green&quot;}\n            ).addTo(marker_cluster_acf0b989549018dc194c9191fee82448);\n        \n    \n            var marker_dce6fe260559eae099b0414d25fbb8fb = L.marker(\n                [28.56230197, -80.57735648],\n                {&quot;color&quot;: &quot;red&quot;}\n            ).addTo(marker_cluster_acf0b989549018dc194c9191fee82448);\n        \n    \n            var marker_69ab979767e06829ee9418a59373bac5 = L.marker(\n                [28.56230197, -80.57735648],\n                {&quot;color&quot;: &quot;green&quot;}\n            ).addTo(marker_cluster_acf0b989549018dc194c9191fee82448);\n        \n    \n            var marker_f78c33559e04d079d49a346d8f92cec4 = L.marker(\n                [28.56230197, -80.57735648],\n                {&quot;color&quot;: &quot;green&quot;}\n            ).addTo(marker_cluster_acf0b989549018dc194c9191fee82448);\n        \n    \n            var marker_19ddbf006aeda42c72739647f0382a2c = L.marker(\n                [28.56230197, -80.57735648],\n                {&quot;color&quot;: &quot;green&quot;}\n            ).addTo(marker_cluster_acf0b989549018dc194c9191fee82448);\n        \n    \n            var marker_5c1d38d2726867d0287aa70bb402ff73 = L.marker(\n                [28.56230197, -80.57735648],\n                {&quot;color&quot;: &quot;red&quot;}\n            ).addTo(marker_cluster_acf0b989549018dc194c9191fee82448);\n        \n    \n            var marker_32981b7089c2d0fa589c88a915c0245f = L.marker(\n                [28.56230197, -80.57735648],\n                {&quot;color&quot;: &quot;green&quot;}\n            ).addTo(marker_cluster_acf0b989549018dc194c9191fee82448);\n        \n    \n            var marker_d5660bbf67f17aa01238552e63a13268 = L.marker(\n                [28.56230197, -80.57735648],\n                {&quot;color&quot;: &quot;green&quot;}\n            ).addTo(marker_cluster_acf0b989549018dc194c9191fee82448);\n        \n    \n            var marker_9a213a876d5b855996d687beeff9c23f = L.marker(\n                [34.63283416, -120.6107455],\n                {&quot;color&quot;: &quot;red&quot;}\n            ).addTo(marker_cluster_acf0b989549018dc194c9191fee82448);\n        \n    \n            var marker_5a97df34a2923dec20cb755be4171799 = L.marker(\n                [34.63283416, -120.6107455],\n                {&quot;color&quot;: &quot;red&quot;}\n            ).addTo(marker_cluster_acf0b989549018dc194c9191fee82448);\n        \n    \n            var marker_3df98ddea269df706b2009933f99dbe9 = L.marker(\n                [34.63283416, -120.6107455],\n                {&quot;color&quot;: &quot;green&quot;}\n            ).addTo(marker_cluster_acf0b989549018dc194c9191fee82448);\n        \n    \n            var marker_d8e6b311ec5b2f088766bdf7414e3be0 = L.marker(\n                [34.63283416, -120.6107455],\n                {&quot;color&quot;: &quot;green&quot;}\n            ).addTo(marker_cluster_acf0b989549018dc194c9191fee82448);\n        \n    \n            var marker_b5cf4e2c8ece8c191a276c6f2c39e1a8 = L.marker(\n                [34.63283416, -120.6107455],\n                {&quot;color&quot;: &quot;green&quot;}\n            ).addTo(marker_cluster_acf0b989549018dc194c9191fee82448);\n        \n    \n            var marker_0485a6404f1478413ab938318ac4bd49 = L.marker(\n                [34.63283416, -120.6107455],\n                {&quot;color&quot;: &quot;green&quot;}\n            ).addTo(marker_cluster_acf0b989549018dc194c9191fee82448);\n        \n    \n            var marker_454348a01e0126f540d7807fe761b341 = L.marker(\n                [34.63283416, -120.6107455],\n                {&quot;color&quot;: &quot;red&quot;}\n            ).addTo(marker_cluster_acf0b989549018dc194c9191fee82448);\n        \n    \n            var marker_1940708c600487f74e27477b5b7c1489 = L.marker(\n                [34.63283416, -120.6107455],\n                {&quot;color&quot;: &quot;red&quot;}\n            ).addTo(marker_cluster_acf0b989549018dc194c9191fee82448);\n        \n    \n            var marker_6c20130e3a35192cb8bf6b5b400cdbba = L.marker(\n                [34.63283416, -120.6107455],\n                {&quot;color&quot;: &quot;red&quot;}\n            ).addTo(marker_cluster_acf0b989549018dc194c9191fee82448);\n        \n    \n            var marker_293988da4e6c799b510374a32f8713b7 = L.marker(\n                [34.63283416, -120.6107455],\n                {&quot;color&quot;: &quot;red&quot;}\n            ).addTo(marker_cluster_acf0b989549018dc194c9191fee82448);\n        \n    \n            var marker_ee20c0e8c1f5e5f6820ae3b370997a64 = L.marker(\n                [28.57325457, -80.64689529],\n                {&quot;color&quot;: &quot;green&quot;}\n            ).addTo(marker_cluster_acf0b989549018dc194c9191fee82448);\n        \n    \n            var marker_3e4169ddada5503b887f3915991db578 = L.marker(\n                [28.57325457, -80.64689529],\n                {&quot;color&quot;: &quot;red&quot;}\n            ).addTo(marker_cluster_acf0b989549018dc194c9191fee82448);\n        \n    \n            var marker_09dfd15b3c762742f6fc923f91f6b915 = L.marker(\n                [28.57325457, -80.64689529],\n                {&quot;color&quot;: &quot;green&quot;}\n            ).addTo(marker_cluster_acf0b989549018dc194c9191fee82448);\n        \n    \n            var marker_ee8f68ee14f9fb6260d3a6b68dbee9b1 = L.marker(\n                [28.57325457, -80.64689529],\n                {&quot;color&quot;: &quot;green&quot;}\n            ).addTo(marker_cluster_acf0b989549018dc194c9191fee82448);\n        \n    \n            var marker_cbf0de9e7ee16b8dd012a334e643ad88 = L.marker(\n                [28.57325457, -80.64689529],\n                {&quot;color&quot;: &quot;red&quot;}\n            ).addTo(marker_cluster_acf0b989549018dc194c9191fee82448);\n        \n    \n            var marker_f2865d0c72fdcd90578b92094fa514a6 = L.marker(\n                [28.57325457, -80.64689529],\n                {&quot;color&quot;: &quot;green&quot;}\n            ).addTo(marker_cluster_acf0b989549018dc194c9191fee82448);\n        \n    \n            var marker_dce795bc604ca9c67f59fa2e221172a8 = L.marker(\n                [28.57325457, -80.64689529],\n                {&quot;color&quot;: &quot;green&quot;}\n            ).addTo(marker_cluster_acf0b989549018dc194c9191fee82448);\n        \n    \n            var marker_cf095fef50f402601e18d1bd6a5f37fc = L.marker(\n                [28.57325457, -80.64689529],\n                {&quot;color&quot;: &quot;red&quot;}\n            ).addTo(marker_cluster_acf0b989549018dc194c9191fee82448);\n        \n    \n            var marker_32b07e03012914be63f68bc7937c4679 = L.marker(\n                [28.57325457, -80.64689529],\n                {&quot;color&quot;: &quot;green&quot;}\n            ).addTo(marker_cluster_acf0b989549018dc194c9191fee82448);\n        \n    \n            var marker_7a3ac521bcbb957b94f6bf52cc210eb0 = L.marker(\n                [28.57325457, -80.64689529],\n                {&quot;color&quot;: &quot;green&quot;}\n            ).addTo(marker_cluster_acf0b989549018dc194c9191fee82448);\n        \n    \n            var marker_8f17b9c3e80fd9c667a2c8bf95c4217f = L.marker(\n                [28.57325457, -80.64689529],\n                {&quot;color&quot;: &quot;green&quot;}\n            ).addTo(marker_cluster_acf0b989549018dc194c9191fee82448);\n        \n    \n            var marker_679fcfdb44aba48905d85babc06728fb = L.marker(\n                [28.57325457, -80.64689529],\n                {&quot;color&quot;: &quot;green&quot;}\n            ).addTo(marker_cluster_acf0b989549018dc194c9191fee82448);\n        \n    \n            var marker_3fd7baefa839ecfc3a28959d2b8902a2 = L.marker(\n                [28.57325457, -80.64689529],\n                {&quot;color&quot;: &quot;green&quot;}\n            ).addTo(marker_cluster_acf0b989549018dc194c9191fee82448);\n        \n    \n            var marker_a1614670c33f69336ebe03cf9efd529f = L.marker(\n                [28.56319718, -80.57682003],\n                {&quot;color&quot;: &quot;green&quot;}\n            ).addTo(marker_cluster_acf0b989549018dc194c9191fee82448);\n        \n    \n            var marker_3b84f65e35c08d186d318c95c1d1ee58 = L.marker(\n                [28.56319718, -80.57682003],\n                {&quot;color&quot;: &quot;green&quot;}\n            ).addTo(marker_cluster_acf0b989549018dc194c9191fee82448);\n        \n    \n            var marker_74671d8ef6a0af70bca5b263694745c4 = L.marker(\n                [28.56319718, -80.57682003],\n                {&quot;color&quot;: &quot;red&quot;}\n            ).addTo(marker_cluster_acf0b989549018dc194c9191fee82448);\n        \n    \n            var marker_52cfd7d9fff80fb2de219890ea1b57ab = L.marker(\n                [28.56319718, -80.57682003],\n                {&quot;color&quot;: &quot;red&quot;}\n            ).addTo(marker_cluster_acf0b989549018dc194c9191fee82448);\n        \n    \n            var marker_8860f762bcf09fcb44e75aea2c0ff050 = L.marker(\n                [28.56319718, -80.57682003],\n                {&quot;color&quot;: &quot;red&quot;}\n            ).addTo(marker_cluster_acf0b989549018dc194c9191fee82448);\n        \n    \n            var marker_1317ed734cefb3a3195a9f6ff2740ae1 = L.marker(\n                [28.56319718, -80.57682003],\n                {&quot;color&quot;: &quot;green&quot;}\n            ).addTo(marker_cluster_acf0b989549018dc194c9191fee82448);\n        \n    \n            var marker_5dd93889b778b5e36c6b7882acef597d = L.marker(\n                [28.56319718, -80.57682003],\n                {&quot;color&quot;: &quot;red&quot;}\n            ).addTo(marker_cluster_acf0b989549018dc194c9191fee82448);\n        \n    \n            marker_cluster_acf0b989549018dc194c9191fee82448.addTo(map_d37110a990dcdcc633fce9300c35aa0f);\n        \n    \n            tile_layer_962d236166f26ab1a13757d694f21ff9.addTo(map_d37110a990dcdcc633fce9300c35aa0f);\n        \n    \n            feature_group_a1c0e3a8af2ba8533fd9a0d2bf6e8bad.addTo(map_d37110a990dcdcc633fce9300c35aa0f);\n        \n    \n            marker_cluster_acf0b989549018dc194c9191fee82448.addTo(map_d37110a990dcdcc633fce9300c35aa0f);\n        \n    \n            var mouse_position_4e7cfd9570b3562983923b1b28dd0725 = new L.Control.MousePosition(\n                {&quot;emptyString&quot;: &quot;NaN&quot;, &quot;lngFirst&quot;: false, &quot;numDigits&quot;: 20, &quot;position&quot;: &quot;topright&quot;, &quot;prefix&quot;: &quot;Lat:&quot;, &quot;separator&quot;: &quot; Long: &quot;}\n            );\n            mouse_position_4e7cfd9570b3562983923b1b28dd0725.options[&quot;latFormatter&quot;] =\n                function(num) {return L.Util.formatNum(num, 5);};;\n            mouse_position_4e7cfd9570b3562983923b1b28dd0725.options[&quot;lngFormatter&quot;] =\n                function(num) {return L.Util.formatNum(num, 5);};;\n            map_d37110a990dcdcc633fce9300c35aa0f.addControl(mouse_position_4e7cfd9570b3562983923b1b28dd0725);\n        \n&lt;/script&gt;\n&lt;/html&gt;\" style=\"position:absolute;width:100%;height:100%;left:0;top:0;border:none !important;\" allowfullscreen webkitallowfullscreen mozallowfullscreen></iframe></div></div>"
          },
          "metadata": {}
        }
      ],
      "execution_count": 29
    },
    {
      "cell_type": "markdown",
      "source": "Now zoom in to a launch site and explore its proximity to see if you can easily find any railway, highway, coastline, etc. Move your mouse to these points and mark down their coordinates (shown on the top-left) in order to the distance to the launch site.\n",
      "metadata": {}
    },
    {
      "cell_type": "markdown",
      "source": "Now zoom in to a launch site and explore its proximity to see if you can easily find any railway, highway, coastline, etc. Move your mouse to these points and mark down their coordinates (shown on the top-left) in order to the distance to the launch site.\n",
      "metadata": {}
    },
    {
      "cell_type": "code",
      "source": "from math import sin, cos, sqrt, atan2, radians\n\ndef calculate_distance(lat1, lon1, lat2, lon2):\n    # approximate radius of earth in km\n    R = 6373.0\n\n    lat1 = radians(lat1)\n    lon1 = radians(lon1)\n    lat2 = radians(lat2)\n    lon2 = radians(lon2)\n\n    dlon = lon2 - lon1\n    dlat = lat2 - lat1\n\n    a = sin(dlat / 2)**2 + cos(lat1) * cos(lat2) * sin(dlon / 2)**2\n    c = 2 * atan2(sqrt(a), sqrt(1 - a))\n\n    distance = R * c\n    return distance",
      "metadata": {
        "trusted": true
      },
      "outputs": [],
      "execution_count": 30
    },
    {
      "cell_type": "markdown",
      "source": "*TODO:* Mark down a point on the closest coastline using MousePosition and calculate the distance between the coastline point and the launch site.\n",
      "metadata": {}
    },
    {
      "cell_type": "code",
      "source": "# find coordinate of the closet coastline\n# e.g.,: Lat: 28.56367  Lon: -80.57163\n# distance_coastline = calculate_distance(launch_site_lat, launch_site_lon, coastline_lat, coastline_lon)",
      "metadata": {},
      "outputs": [],
      "execution_count": null
    },
    {
      "cell_type": "code",
      "source": "# Create and add a folium.Marker on your selected closest coastline point on the map\n# Display the distance between coastline point and launch site using the icon property \n# for example\n# distance_marker = folium.Marker(\n#    coordinate,\n#    icon=DivIcon(\n#        icon_size=(20,20),\n#        icon_anchor=(0,0),\n#        html='<div style=\"font-size: 12; color:#d35400;\"><b>%s</b></div>' % \"{:10.2f} KM\".format(distance),\n#        )\n#    )",
      "metadata": {},
      "outputs": [],
      "execution_count": null
    },
    {
      "cell_type": "markdown",
      "source": "*TODO:* Draw a `PolyLine` between a launch site to the selected coastline point\n",
      "metadata": {}
    },
    {
      "cell_type": "code",
      "source": "# Create a `folium.PolyLine` object using the coastline coordinates and launch site coordinate\nlines=folium.PolyLine(locations=coordinates, weight=1)\nsite_map.add_child(lines)",
      "metadata": {
        "trusted": true
      },
      "outputs": [
        {
          "ename": "<class 'NameError'>",
          "evalue": "name 'coordinates' is not defined",
          "traceback": [
            "\u001b[0;31m---------------------------------------------------------------------------\u001b[0m",
            "\u001b[0;31mNameError\u001b[0m                                 Traceback (most recent call last)",
            "Cell \u001b[0;32mIn[31], line 2\u001b[0m\n\u001b[1;32m      1\u001b[0m \u001b[38;5;66;03m# Create a `folium.PolyLine` object using the coastline coordinates and launch site coordinate\u001b[39;00m\n\u001b[0;32m----> 2\u001b[0m lines\u001b[38;5;241m=\u001b[39mfolium\u001b[38;5;241m.\u001b[39mPolyLine(locations\u001b[38;5;241m=\u001b[39m\u001b[43mcoordinates\u001b[49m, weight\u001b[38;5;241m=\u001b[39m\u001b[38;5;241m1\u001b[39m)\n\u001b[1;32m      3\u001b[0m site_map\u001b[38;5;241m.\u001b[39madd_child(lines)\n",
            "\u001b[0;31mNameError\u001b[0m: name 'coordinates' is not defined"
          ],
          "output_type": "error"
        }
      ],
      "execution_count": 31
    },
    {
      "cell_type": "markdown",
      "source": "Your updated map with distance line should look like the following screenshot:\n",
      "metadata": {}
    },
    {
      "cell_type": "markdown",
      "source": "<center>\n    <img src=\"https://cf-courses-data.s3.us.cloud-object-storage.appdomain.cloud/IBM-DS0321EN-SkillsNetwork/labs/module_3/images/launch_site_marker_distance.png\">\n</center>\n",
      "metadata": {}
    },
    {
      "cell_type": "markdown",
      "source": "*TODO:* Similarly, you can draw a line betwee a launch site to its closest city, railway, highway, etc. You need to use `MousePosition` to find the their coordinates on the map first\n",
      "metadata": {}
    },
    {
      "cell_type": "markdown",
      "source": "A railway map symbol may look like this:\n",
      "metadata": {}
    },
    {
      "cell_type": "markdown",
      "source": "<center>\n    <img src=\"https://cf-courses-data.s3.us.cloud-object-storage.appdomain.cloud/IBM-DS0321EN-SkillsNetwork/labs/module_3/images/railway.png\">\n</center>\n",
      "metadata": {}
    },
    {
      "cell_type": "markdown",
      "source": "A highway map symbol may look like this:\n",
      "metadata": {}
    },
    {
      "cell_type": "markdown",
      "source": "<center>\n    <img src=\"https://cf-courses-data.s3.us.cloud-object-storage.appdomain.cloud/IBM-DS0321EN-SkillsNetwork/labs/module_3/images/highway.png\">\n</center>\n",
      "metadata": {}
    },
    {
      "cell_type": "markdown",
      "source": "A city map symbol may look like this:\n",
      "metadata": {}
    },
    {
      "cell_type": "markdown",
      "source": "<center>\n    <img src=\"https://cf-courses-data.s3.us.cloud-object-storage.appdomain.cloud/IBM-DS0321EN-SkillsNetwork/labs/module_3/images/city.png\">\n</center>\n",
      "metadata": {}
    },
    {
      "cell_type": "code",
      "source": "# Create a marker with distance to a closest city, railway, highway, etc.\n# Draw a line between the marker to the launch site\n",
      "metadata": {},
      "outputs": [],
      "execution_count": null
    },
    {
      "cell_type": "code",
      "source": "",
      "metadata": {},
      "outputs": [],
      "execution_count": null
    },
    {
      "cell_type": "code",
      "source": "",
      "metadata": {},
      "outputs": [],
      "execution_count": null
    },
    {
      "cell_type": "markdown",
      "source": "After you plot distance lines to the proximities, you can answer the following questions easily:\n\n*   Are launch sites in close proximity to railways?\n*   Are launch sites in close proximity to highways?\n*   Are launch sites in close proximity to coastline?\n*   Do launch sites keep certain distance away from cities?\n\nAlso please try to explain your findings.\n",
      "metadata": {}
    },
    {
      "cell_type": "markdown",
      "source": "# Next Steps:\n\nNow you have discovered many interesting insights related to the launch sites' location using folium, in a very interactive way. Next, you will need to build a dashboard using Ploty Dash on detailed launch records.\n",
      "metadata": {}
    },
    {
      "cell_type": "markdown",
      "source": "## Authors\n",
      "metadata": {}
    },
    {
      "cell_type": "markdown",
      "source": "[Pratiksha Verma](https://www.linkedin.com/in/pratiksha-verma-6487561b1/?utm_medium=Exinfluencer&utm_source=Exinfluencer&utm_content=000026UJ&utm_term=10006555&utm_id=NA-SkillsNetwork-Channel-SkillsNetworkCoursesIBMDS0321ENSkillsNetwork865-2022-01-01)\n",
      "metadata": {}
    },
    {
      "cell_type": "markdown",
      "source": "## Change Log\n",
      "metadata": {}
    },
    {
      "cell_type": "markdown",
      "source": "| Date (YYYY-MM-DD) | Version | Changed By      | Change Description      |\n| ----------------- | ------- | -------------   | ----------------------- |\n| 2022-11-09        | 1.0     | Pratiksha Verma | Converted initial version to Jupyterlite|\n",
      "metadata": {}
    },
    {
      "cell_type": "markdown",
      "source": "### <h3 align=\"center\"> IBM Corporation 2022. All rights reserved. <h3/>\n",
      "metadata": {}
    }
  ]
}